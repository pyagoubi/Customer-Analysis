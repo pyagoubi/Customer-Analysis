{
  "nbformat": 4,
  "nbformat_minor": 0,
  "metadata": {
    "colab": {
      "provenance": [],
      "authorship_tag": "ABX9TyNCGNXNumRKJLvnW0DyAepd",
      "include_colab_link": true
    },
    "kernelspec": {
      "name": "python3",
      "display_name": "Python 3"
    },
    "language_info": {
      "name": "python"
    }
  },
  "cells": [
    {
      "cell_type": "markdown",
      "metadata": {
        "id": "view-in-github",
        "colab_type": "text"
      },
      "source": [
        "<a href=\"https://colab.research.google.com/github/pyagoubi/Customer-Analysis/blob/main/Untitled9.ipynb\" target=\"_parent\"><img src=\"https://colab.research.google.com/assets/colab-badge.svg\" alt=\"Open In Colab\"/></a>"
      ]
    },
    {
      "cell_type": "code",
      "execution_count": 1,
      "metadata": {
        "colab": {
          "base_uri": "https://localhost:8080/"
        },
        "id": "GX-RYnwkxMr4",
        "outputId": "998e984c-733c-4ba9-9d6b-d3d2c6104960"
      },
      "outputs": [
        {
          "output_type": "stream",
          "name": "stdout",
          "text": [
            "Drive already mounted at /content/drive; to attempt to forcibly remount, call drive.mount(\"/content/drive\", force_remount=True).\n"
          ]
        }
      ],
      "source": [
        "#Mounting Google Drive\n",
        "from google.colab import drive\n",
        "drive.mount('/content/drive')"
      ]
    },
    {
      "cell_type": "code",
      "source": [
        "import pandas as pd\n",
        "import seaborn as sns\n",
        "from matplotlib import pyplot as plt\n",
        "import numpy as np"
      ],
      "metadata": {
        "id": "-HjmDjcj1IA2"
      },
      "execution_count": 2,
      "outputs": []
    },
    {
      "cell_type": "code",
      "source": [
        "data = pd.read_csv('/content/drive/MyDrive/upwork2/CutDownfile - Members and holdings 16.02.2023 (1).csv')"
      ],
      "metadata": {
        "colab": {
          "base_uri": "https://localhost:8080/"
        },
        "id": "4zmDlW8qxO4t",
        "outputId": "4a728f26-8c0b-4ca6-8100-38c8ba7ff890"
      },
      "execution_count": 3,
      "outputs": [
        {
          "output_type": "stream",
          "name": "stderr",
          "text": [
            "/usr/local/lib/python3.8/dist-packages/IPython/core/interactiveshell.py:3326: DtypeWarning: Columns (5,32,35,43,52,53,58,69) have mixed types.Specify dtype option on import or set low_memory=False.\n",
            "  exec(code_obj, self.user_global_ns, self.user_ns)\n"
          ]
        }
      ]
    },
    {
      "cell_type": "code",
      "source": [
        "data.head(5)"
      ],
      "metadata": {
        "colab": {
          "base_uri": "https://localhost:8080/",
          "height": 386
        },
        "id": "DhH6TDWB1KaF",
        "outputId": "f50423e1-a617-4f6a-eae5-e62445c0e006"
      },
      "execution_count": 4,
      "outputs": [
        {
          "output_type": "execute_result",
          "data": {
            "text/plain": [
              "   MemberNumber  UserRef  InternalRef2         Country      MemberStatus  \\\n",
              "0            12  MW00012           1.0  United Kingdom  Partial Drawdown   \n",
              "1            12  MW00012           1.0  United Kingdom  Partial Drawdown   \n",
              "2            19  MW00019           2.0  United Kingdom     Full Drawdown   \n",
              "3            19  MW00019           2.0  United Kingdom     Full Drawdown   \n",
              "4            20  MW00020           4.0  United Kingdom     Full Drawdown   \n",
              "\n",
              "  DateofDeath            DOB     Sex ContactforCorres   SARef  ...  \\\n",
              "0         NaN    6/9/52 0:00    Male           Member  SA0001  ...   \n",
              "1         NaN    6/9/52 0:00    Male           Member  SA0001  ...   \n",
              "2         NaN  12/12/47 0:00  Female           Member  SA0001  ...   \n",
              "3         NaN  12/12/47 0:00  Female           Member  SA0001  ...   \n",
              "4         NaN    2/7/48 0:00    Male           Member  SA0001  ...   \n",
              "\n",
              "  CurrentUnitsCalculated CurrentUnitsManual BookValue  CurrentValueCalculated  \\\n",
              "0                    NaN                NaN  62894.57               285342.01   \n",
              "1                    NaN                NaN   5768.16                 5773.80   \n",
              "2                    NaN                NaN   8495.00                    0.00   \n",
              "3                    NaN                NaN  48287.27                47133.99   \n",
              "4                    NaN                NaN  16995.00                    0.00   \n",
              "\n",
              "      ValDate  ValLatest VotingRights UserAssClass UserAssGrp UnRegFg  \n",
              "0  11/30/2022  285342.01          NaN          NaN        NaN     NaN  \n",
              "1    2/1/2023    5773.80          NaN          NaN        NaN     NaN  \n",
              "2  12/31/2016       0.00          NaN          NaN        NaN     NaN  \n",
              "3   2/14/2023   47133.99          NaN          NaN        NaN     NaN  \n",
              "4  12/31/2016       0.00          NaN          NaN        NaN     NaN  \n",
              "\n",
              "[5 rows x 70 columns]"
            ],
            "text/html": [
              "\n",
              "  <div id=\"df-687f341a-2611-4dca-bf14-f4465c8094d1\">\n",
              "    <div class=\"colab-df-container\">\n",
              "      <div>\n",
              "<style scoped>\n",
              "    .dataframe tbody tr th:only-of-type {\n",
              "        vertical-align: middle;\n",
              "    }\n",
              "\n",
              "    .dataframe tbody tr th {\n",
              "        vertical-align: top;\n",
              "    }\n",
              "\n",
              "    .dataframe thead th {\n",
              "        text-align: right;\n",
              "    }\n",
              "</style>\n",
              "<table border=\"1\" class=\"dataframe\">\n",
              "  <thead>\n",
              "    <tr style=\"text-align: right;\">\n",
              "      <th></th>\n",
              "      <th>MemberNumber</th>\n",
              "      <th>UserRef</th>\n",
              "      <th>InternalRef2</th>\n",
              "      <th>Country</th>\n",
              "      <th>MemberStatus</th>\n",
              "      <th>DateofDeath</th>\n",
              "      <th>DOB</th>\n",
              "      <th>Sex</th>\n",
              "      <th>ContactforCorres</th>\n",
              "      <th>SARef</th>\n",
              "      <th>...</th>\n",
              "      <th>CurrentUnitsCalculated</th>\n",
              "      <th>CurrentUnitsManual</th>\n",
              "      <th>BookValue</th>\n",
              "      <th>CurrentValueCalculated</th>\n",
              "      <th>ValDate</th>\n",
              "      <th>ValLatest</th>\n",
              "      <th>VotingRights</th>\n",
              "      <th>UserAssClass</th>\n",
              "      <th>UserAssGrp</th>\n",
              "      <th>UnRegFg</th>\n",
              "    </tr>\n",
              "  </thead>\n",
              "  <tbody>\n",
              "    <tr>\n",
              "      <th>0</th>\n",
              "      <td>12</td>\n",
              "      <td>MW00012</td>\n",
              "      <td>1.0</td>\n",
              "      <td>United Kingdom</td>\n",
              "      <td>Partial Drawdown</td>\n",
              "      <td>NaN</td>\n",
              "      <td>6/9/52 0:00</td>\n",
              "      <td>Male</td>\n",
              "      <td>Member</td>\n",
              "      <td>SA0001</td>\n",
              "      <td>...</td>\n",
              "      <td>NaN</td>\n",
              "      <td>NaN</td>\n",
              "      <td>62894.57</td>\n",
              "      <td>285342.01</td>\n",
              "      <td>11/30/2022</td>\n",
              "      <td>285342.01</td>\n",
              "      <td>NaN</td>\n",
              "      <td>NaN</td>\n",
              "      <td>NaN</td>\n",
              "      <td>NaN</td>\n",
              "    </tr>\n",
              "    <tr>\n",
              "      <th>1</th>\n",
              "      <td>12</td>\n",
              "      <td>MW00012</td>\n",
              "      <td>1.0</td>\n",
              "      <td>United Kingdom</td>\n",
              "      <td>Partial Drawdown</td>\n",
              "      <td>NaN</td>\n",
              "      <td>6/9/52 0:00</td>\n",
              "      <td>Male</td>\n",
              "      <td>Member</td>\n",
              "      <td>SA0001</td>\n",
              "      <td>...</td>\n",
              "      <td>NaN</td>\n",
              "      <td>NaN</td>\n",
              "      <td>5768.16</td>\n",
              "      <td>5773.80</td>\n",
              "      <td>2/1/2023</td>\n",
              "      <td>5773.80</td>\n",
              "      <td>NaN</td>\n",
              "      <td>NaN</td>\n",
              "      <td>NaN</td>\n",
              "      <td>NaN</td>\n",
              "    </tr>\n",
              "    <tr>\n",
              "      <th>2</th>\n",
              "      <td>19</td>\n",
              "      <td>MW00019</td>\n",
              "      <td>2.0</td>\n",
              "      <td>United Kingdom</td>\n",
              "      <td>Full Drawdown</td>\n",
              "      <td>NaN</td>\n",
              "      <td>12/12/47 0:00</td>\n",
              "      <td>Female</td>\n",
              "      <td>Member</td>\n",
              "      <td>SA0001</td>\n",
              "      <td>...</td>\n",
              "      <td>NaN</td>\n",
              "      <td>NaN</td>\n",
              "      <td>8495.00</td>\n",
              "      <td>0.00</td>\n",
              "      <td>12/31/2016</td>\n",
              "      <td>0.00</td>\n",
              "      <td>NaN</td>\n",
              "      <td>NaN</td>\n",
              "      <td>NaN</td>\n",
              "      <td>NaN</td>\n",
              "    </tr>\n",
              "    <tr>\n",
              "      <th>3</th>\n",
              "      <td>19</td>\n",
              "      <td>MW00019</td>\n",
              "      <td>2.0</td>\n",
              "      <td>United Kingdom</td>\n",
              "      <td>Full Drawdown</td>\n",
              "      <td>NaN</td>\n",
              "      <td>12/12/47 0:00</td>\n",
              "      <td>Female</td>\n",
              "      <td>Member</td>\n",
              "      <td>SA0001</td>\n",
              "      <td>...</td>\n",
              "      <td>NaN</td>\n",
              "      <td>NaN</td>\n",
              "      <td>48287.27</td>\n",
              "      <td>47133.99</td>\n",
              "      <td>2/14/2023</td>\n",
              "      <td>47133.99</td>\n",
              "      <td>NaN</td>\n",
              "      <td>NaN</td>\n",
              "      <td>NaN</td>\n",
              "      <td>NaN</td>\n",
              "    </tr>\n",
              "    <tr>\n",
              "      <th>4</th>\n",
              "      <td>20</td>\n",
              "      <td>MW00020</td>\n",
              "      <td>4.0</td>\n",
              "      <td>United Kingdom</td>\n",
              "      <td>Full Drawdown</td>\n",
              "      <td>NaN</td>\n",
              "      <td>2/7/48 0:00</td>\n",
              "      <td>Male</td>\n",
              "      <td>Member</td>\n",
              "      <td>SA0001</td>\n",
              "      <td>...</td>\n",
              "      <td>NaN</td>\n",
              "      <td>NaN</td>\n",
              "      <td>16995.00</td>\n",
              "      <td>0.00</td>\n",
              "      <td>12/31/2016</td>\n",
              "      <td>0.00</td>\n",
              "      <td>NaN</td>\n",
              "      <td>NaN</td>\n",
              "      <td>NaN</td>\n",
              "      <td>NaN</td>\n",
              "    </tr>\n",
              "  </tbody>\n",
              "</table>\n",
              "<p>5 rows × 70 columns</p>\n",
              "</div>\n",
              "      <button class=\"colab-df-convert\" onclick=\"convertToInteractive('df-687f341a-2611-4dca-bf14-f4465c8094d1')\"\n",
              "              title=\"Convert this dataframe to an interactive table.\"\n",
              "              style=\"display:none;\">\n",
              "        \n",
              "  <svg xmlns=\"http://www.w3.org/2000/svg\" height=\"24px\"viewBox=\"0 0 24 24\"\n",
              "       width=\"24px\">\n",
              "    <path d=\"M0 0h24v24H0V0z\" fill=\"none\"/>\n",
              "    <path d=\"M18.56 5.44l.94 2.06.94-2.06 2.06-.94-2.06-.94-.94-2.06-.94 2.06-2.06.94zm-11 1L8.5 8.5l.94-2.06 2.06-.94-2.06-.94L8.5 2.5l-.94 2.06-2.06.94zm10 10l.94 2.06.94-2.06 2.06-.94-2.06-.94-.94-2.06-.94 2.06-2.06.94z\"/><path d=\"M17.41 7.96l-1.37-1.37c-.4-.4-.92-.59-1.43-.59-.52 0-1.04.2-1.43.59L10.3 9.45l-7.72 7.72c-.78.78-.78 2.05 0 2.83L4 21.41c.39.39.9.59 1.41.59.51 0 1.02-.2 1.41-.59l7.78-7.78 2.81-2.81c.8-.78.8-2.07 0-2.86zM5.41 20L4 18.59l7.72-7.72 1.47 1.35L5.41 20z\"/>\n",
              "  </svg>\n",
              "      </button>\n",
              "      \n",
              "  <style>\n",
              "    .colab-df-container {\n",
              "      display:flex;\n",
              "      flex-wrap:wrap;\n",
              "      gap: 12px;\n",
              "    }\n",
              "\n",
              "    .colab-df-convert {\n",
              "      background-color: #E8F0FE;\n",
              "      border: none;\n",
              "      border-radius: 50%;\n",
              "      cursor: pointer;\n",
              "      display: none;\n",
              "      fill: #1967D2;\n",
              "      height: 32px;\n",
              "      padding: 0 0 0 0;\n",
              "      width: 32px;\n",
              "    }\n",
              "\n",
              "    .colab-df-convert:hover {\n",
              "      background-color: #E2EBFA;\n",
              "      box-shadow: 0px 1px 2px rgba(60, 64, 67, 0.3), 0px 1px 3px 1px rgba(60, 64, 67, 0.15);\n",
              "      fill: #174EA6;\n",
              "    }\n",
              "\n",
              "    [theme=dark] .colab-df-convert {\n",
              "      background-color: #3B4455;\n",
              "      fill: #D2E3FC;\n",
              "    }\n",
              "\n",
              "    [theme=dark] .colab-df-convert:hover {\n",
              "      background-color: #434B5C;\n",
              "      box-shadow: 0px 1px 3px 1px rgba(0, 0, 0, 0.15);\n",
              "      filter: drop-shadow(0px 1px 2px rgba(0, 0, 0, 0.3));\n",
              "      fill: #FFFFFF;\n",
              "    }\n",
              "  </style>\n",
              "\n",
              "      <script>\n",
              "        const buttonEl =\n",
              "          document.querySelector('#df-687f341a-2611-4dca-bf14-f4465c8094d1 button.colab-df-convert');\n",
              "        buttonEl.style.display =\n",
              "          google.colab.kernel.accessAllowed ? 'block' : 'none';\n",
              "\n",
              "        async function convertToInteractive(key) {\n",
              "          const element = document.querySelector('#df-687f341a-2611-4dca-bf14-f4465c8094d1');\n",
              "          const dataTable =\n",
              "            await google.colab.kernel.invokeFunction('convertToInteractive',\n",
              "                                                     [key], {});\n",
              "          if (!dataTable) return;\n",
              "\n",
              "          const docLinkHtml = 'Like what you see? Visit the ' +\n",
              "            '<a target=\"_blank\" href=https://colab.research.google.com/notebooks/data_table.ipynb>data table notebook</a>'\n",
              "            + ' to learn more about interactive tables.';\n",
              "          element.innerHTML = '';\n",
              "          dataTable['output_type'] = 'display_data';\n",
              "          await google.colab.output.renderOutput(dataTable, element);\n",
              "          const docLink = document.createElement('div');\n",
              "          docLink.innerHTML = docLinkHtml;\n",
              "          element.appendChild(docLink);\n",
              "        }\n",
              "      </script>\n",
              "    </div>\n",
              "  </div>\n",
              "  "
            ]
          },
          "metadata": {},
          "execution_count": 4
        }
      ]
    },
    {
      "cell_type": "markdown",
      "source": [
        "# Checking main info"
      ],
      "metadata": {
        "id": "tAQEVRMP3V0C"
      }
    },
    {
      "cell_type": "code",
      "source": [
        "data.info()"
      ],
      "metadata": {
        "colab": {
          "base_uri": "https://localhost:8080/"
        },
        "id": "a0yJpjXf3air",
        "outputId": "7c9a79f4-4b7e-4a07-8a86-9f8f515aa999"
      },
      "execution_count": 5,
      "outputs": [
        {
          "output_type": "stream",
          "name": "stdout",
          "text": [
            "<class 'pandas.core.frame.DataFrame'>\n",
            "RangeIndex: 9799 entries, 0 to 9798\n",
            "Data columns (total 70 columns):\n",
            " #   Column                  Non-Null Count  Dtype  \n",
            "---  ------                  --------------  -----  \n",
            " 0   MemberNumber            9799 non-null   int64  \n",
            " 1   UserRef                 9798 non-null   object \n",
            " 2   InternalRef2            16 non-null     float64\n",
            " 3   Country                 9788 non-null   object \n",
            " 4   MemberStatus            9799 non-null   object \n",
            " 5   DateofDeath             3 non-null      object \n",
            " 6   DOB                     9797 non-null   object \n",
            " 7   Sex                     9795 non-null   object \n",
            " 8   ContactforCorres        9799 non-null   object \n",
            " 9   SARef                   9799 non-null   object \n",
            " 10  SchemeName              9795 non-null   object \n",
            " 11  BrandName               9792 non-null   object \n",
            " 12  BrandRef                9792 non-null   object \n",
            " 13  ProposedRetireAge       9793 non-null   float64\n",
            " 14  ProposedRetireDate      9791 non-null   object \n",
            " 15  75thBirthday            9797 non-null   object \n",
            " 16  75before2262010         9799 non-null   object \n",
            " 17  AdvAppointedDate        8809 non-null   object \n",
            " 18  77thBirthday            9797 non-null   object \n",
            " 19  CommencementDate        9799 non-null   object \n",
            " 20  CommencementMonth       9799 non-null   int64  \n",
            " 21  CommencementYear        9799 non-null   int64  \n",
            " 22  NextRenewalDay          9799 non-null   int64  \n",
            " 23  NextRenewalMonth        9798 non-null   float64\n",
            " 24  NextRenewalDate         9799 non-null   object \n",
            " 25  SIPPRole                8483 non-null   object \n",
            " 26  AdviserRef              9020 non-null   object \n",
            " 27  AdviserType             8820 non-null   object \n",
            " 28  AdviserCountry          8830 non-null   object \n",
            " 29  AdviserDirectLine       40 non-null     object \n",
            " 30  AdviserCompanyName      8722 non-null   object \n",
            " 31  ClusterRef              3 non-null      float64\n",
            " 32  CoRegNo                 52 non-null     object \n",
            " 33  CSCMan                  0 non-null      float64\n",
            " 34  CSCType                 0 non-null      float64\n",
            " 35  DiscMan                 263 non-null    object \n",
            " 36  Dividends               0 non-null      float64\n",
            " 37  DSPAcType               0 non-null      float64\n",
            " 38  FundMan                 9570 non-null   object \n",
            " 39  FundPercent             1 non-null      float64\n",
            " 40  HoldingNo               9799 non-null   int64  \n",
            " 41  HoldStatus              9799 non-null   object \n",
            " 42  HoldType                9795 non-null   object \n",
            " 43  InSpecie                28 non-null     object \n",
            " 44  InsRef                  4327 non-null   object \n",
            " 45  InsuredFnd              0 non-null      float64\n",
            " 46  MemberRef               0 non-null      float64\n",
            " 47  Notes                   606 non-null    object \n",
            " 48  OwnerRef                9799 non-null   int64  \n",
            " 49  PFType                  0 non-null      float64\n",
            " 50  PlanRef                 10 non-null     float64\n",
            " 51  PriceCurr               159 non-null    float64\n",
            " 52  PSRAcqFrm               346 non-null    object \n",
            " 53  PSRAssOth               169 non-null    object \n",
            " 54  PSRAssTyp               352 non-null    float64\n",
            " 55  PurDate                 9714 non-null   object \n",
            " 56  PurValue                5337 non-null   float64\n",
            " 57  RedemDate               0 non-null      float64\n",
            " 58  RepDt                   12 non-null     object \n",
            " 59  SedolRef                4335 non-null   object \n",
            " 60  CurrentUnitsCalculated  296 non-null    float64\n",
            " 61  CurrentUnitsManual      83 non-null     float64\n",
            " 62  BookValue               9710 non-null   float64\n",
            " 63  CurrentValueCalculated  9554 non-null   float64\n",
            " 64  ValDate                 9393 non-null   object \n",
            " 65  ValLatest               9458 non-null   float64\n",
            " 66  VotingRights            0 non-null      float64\n",
            " 67  UserAssClass            4142 non-null   object \n",
            " 68  UserAssGrp              4143 non-null   object \n",
            " 69  UnRegFg                 299 non-null    object \n",
            "dtypes: float64(23), int64(6), object(41)\n",
            "memory usage: 5.2+ MB\n"
          ]
        }
      ]
    },
    {
      "cell_type": "markdown",
      "source": [
        "The dataset contains 9799 rows and 70 columns. Columns do have different datatypes and are either float, object or int.  \n",
        "There seems to be missing values at different levels."
      ],
      "metadata": {
        "id": "3KT13s2W5d-e"
      }
    },
    {
      "cell_type": "code",
      "source": [
        "data['MemberNumber'].nunique()"
      ],
      "metadata": {
        "colab": {
          "base_uri": "https://localhost:8080/"
        },
        "id": "JzfLsPwh_uiv",
        "outputId": "a3d2c216-797d-4a76-d121-0798f9864cf2"
      },
      "execution_count": 6,
      "outputs": [
        {
          "output_type": "execute_result",
          "data": {
            "text/plain": [
              "4689"
            ]
          },
          "metadata": {},
          "execution_count": 6
        }
      ]
    },
    {
      "cell_type": "code",
      "source": [
        "data[['MemberNumber', 'DOB']]"
      ],
      "metadata": {
        "colab": {
          "base_uri": "https://localhost:8080/",
          "height": 424
        },
        "id": "PLHat6qOAOho",
        "outputId": "bb937132-5046-4083-be0e-0757533eb654"
      },
      "execution_count": 7,
      "outputs": [
        {
          "output_type": "execute_result",
          "data": {
            "text/plain": [
              "      MemberNumber            DOB\n",
              "0               12    6/9/52 0:00\n",
              "1               12    6/9/52 0:00\n",
              "2               19  12/12/47 0:00\n",
              "3               19  12/12/47 0:00\n",
              "4               20    2/7/48 0:00\n",
              "...            ...            ...\n",
              "9794          2765   10/9/60 0:00\n",
              "9795          7211    2/6/62 0:00\n",
              "9796          7211    2/6/62 0:00\n",
              "9797          7213   4/18/67 0:00\n",
              "9798          7213   4/18/67 0:00\n",
              "\n",
              "[9799 rows x 2 columns]"
            ],
            "text/html": [
              "\n",
              "  <div id=\"df-678db0dd-3782-484f-a53c-1a68ee69bf6a\">\n",
              "    <div class=\"colab-df-container\">\n",
              "      <div>\n",
              "<style scoped>\n",
              "    .dataframe tbody tr th:only-of-type {\n",
              "        vertical-align: middle;\n",
              "    }\n",
              "\n",
              "    .dataframe tbody tr th {\n",
              "        vertical-align: top;\n",
              "    }\n",
              "\n",
              "    .dataframe thead th {\n",
              "        text-align: right;\n",
              "    }\n",
              "</style>\n",
              "<table border=\"1\" class=\"dataframe\">\n",
              "  <thead>\n",
              "    <tr style=\"text-align: right;\">\n",
              "      <th></th>\n",
              "      <th>MemberNumber</th>\n",
              "      <th>DOB</th>\n",
              "    </tr>\n",
              "  </thead>\n",
              "  <tbody>\n",
              "    <tr>\n",
              "      <th>0</th>\n",
              "      <td>12</td>\n",
              "      <td>6/9/52 0:00</td>\n",
              "    </tr>\n",
              "    <tr>\n",
              "      <th>1</th>\n",
              "      <td>12</td>\n",
              "      <td>6/9/52 0:00</td>\n",
              "    </tr>\n",
              "    <tr>\n",
              "      <th>2</th>\n",
              "      <td>19</td>\n",
              "      <td>12/12/47 0:00</td>\n",
              "    </tr>\n",
              "    <tr>\n",
              "      <th>3</th>\n",
              "      <td>19</td>\n",
              "      <td>12/12/47 0:00</td>\n",
              "    </tr>\n",
              "    <tr>\n",
              "      <th>4</th>\n",
              "      <td>20</td>\n",
              "      <td>2/7/48 0:00</td>\n",
              "    </tr>\n",
              "    <tr>\n",
              "      <th>...</th>\n",
              "      <td>...</td>\n",
              "      <td>...</td>\n",
              "    </tr>\n",
              "    <tr>\n",
              "      <th>9794</th>\n",
              "      <td>2765</td>\n",
              "      <td>10/9/60 0:00</td>\n",
              "    </tr>\n",
              "    <tr>\n",
              "      <th>9795</th>\n",
              "      <td>7211</td>\n",
              "      <td>2/6/62 0:00</td>\n",
              "    </tr>\n",
              "    <tr>\n",
              "      <th>9796</th>\n",
              "      <td>7211</td>\n",
              "      <td>2/6/62 0:00</td>\n",
              "    </tr>\n",
              "    <tr>\n",
              "      <th>9797</th>\n",
              "      <td>7213</td>\n",
              "      <td>4/18/67 0:00</td>\n",
              "    </tr>\n",
              "    <tr>\n",
              "      <th>9798</th>\n",
              "      <td>7213</td>\n",
              "      <td>4/18/67 0:00</td>\n",
              "    </tr>\n",
              "  </tbody>\n",
              "</table>\n",
              "<p>9799 rows × 2 columns</p>\n",
              "</div>\n",
              "      <button class=\"colab-df-convert\" onclick=\"convertToInteractive('df-678db0dd-3782-484f-a53c-1a68ee69bf6a')\"\n",
              "              title=\"Convert this dataframe to an interactive table.\"\n",
              "              style=\"display:none;\">\n",
              "        \n",
              "  <svg xmlns=\"http://www.w3.org/2000/svg\" height=\"24px\"viewBox=\"0 0 24 24\"\n",
              "       width=\"24px\">\n",
              "    <path d=\"M0 0h24v24H0V0z\" fill=\"none\"/>\n",
              "    <path d=\"M18.56 5.44l.94 2.06.94-2.06 2.06-.94-2.06-.94-.94-2.06-.94 2.06-2.06.94zm-11 1L8.5 8.5l.94-2.06 2.06-.94-2.06-.94L8.5 2.5l-.94 2.06-2.06.94zm10 10l.94 2.06.94-2.06 2.06-.94-2.06-.94-.94-2.06-.94 2.06-2.06.94z\"/><path d=\"M17.41 7.96l-1.37-1.37c-.4-.4-.92-.59-1.43-.59-.52 0-1.04.2-1.43.59L10.3 9.45l-7.72 7.72c-.78.78-.78 2.05 0 2.83L4 21.41c.39.39.9.59 1.41.59.51 0 1.02-.2 1.41-.59l7.78-7.78 2.81-2.81c.8-.78.8-2.07 0-2.86zM5.41 20L4 18.59l7.72-7.72 1.47 1.35L5.41 20z\"/>\n",
              "  </svg>\n",
              "      </button>\n",
              "      \n",
              "  <style>\n",
              "    .colab-df-container {\n",
              "      display:flex;\n",
              "      flex-wrap:wrap;\n",
              "      gap: 12px;\n",
              "    }\n",
              "\n",
              "    .colab-df-convert {\n",
              "      background-color: #E8F0FE;\n",
              "      border: none;\n",
              "      border-radius: 50%;\n",
              "      cursor: pointer;\n",
              "      display: none;\n",
              "      fill: #1967D2;\n",
              "      height: 32px;\n",
              "      padding: 0 0 0 0;\n",
              "      width: 32px;\n",
              "    }\n",
              "\n",
              "    .colab-df-convert:hover {\n",
              "      background-color: #E2EBFA;\n",
              "      box-shadow: 0px 1px 2px rgba(60, 64, 67, 0.3), 0px 1px 3px 1px rgba(60, 64, 67, 0.15);\n",
              "      fill: #174EA6;\n",
              "    }\n",
              "\n",
              "    [theme=dark] .colab-df-convert {\n",
              "      background-color: #3B4455;\n",
              "      fill: #D2E3FC;\n",
              "    }\n",
              "\n",
              "    [theme=dark] .colab-df-convert:hover {\n",
              "      background-color: #434B5C;\n",
              "      box-shadow: 0px 1px 3px 1px rgba(0, 0, 0, 0.15);\n",
              "      filter: drop-shadow(0px 1px 2px rgba(0, 0, 0, 0.3));\n",
              "      fill: #FFFFFF;\n",
              "    }\n",
              "  </style>\n",
              "\n",
              "      <script>\n",
              "        const buttonEl =\n",
              "          document.querySelector('#df-678db0dd-3782-484f-a53c-1a68ee69bf6a button.colab-df-convert');\n",
              "        buttonEl.style.display =\n",
              "          google.colab.kernel.accessAllowed ? 'block' : 'none';\n",
              "\n",
              "        async function convertToInteractive(key) {\n",
              "          const element = document.querySelector('#df-678db0dd-3782-484f-a53c-1a68ee69bf6a');\n",
              "          const dataTable =\n",
              "            await google.colab.kernel.invokeFunction('convertToInteractive',\n",
              "                                                     [key], {});\n",
              "          if (!dataTable) return;\n",
              "\n",
              "          const docLinkHtml = 'Like what you see? Visit the ' +\n",
              "            '<a target=\"_blank\" href=https://colab.research.google.com/notebooks/data_table.ipynb>data table notebook</a>'\n",
              "            + ' to learn more about interactive tables.';\n",
              "          element.innerHTML = '';\n",
              "          dataTable['output_type'] = 'display_data';\n",
              "          await google.colab.output.renderOutput(dataTable, element);\n",
              "          const docLink = document.createElement('div');\n",
              "          docLink.innerHTML = docLinkHtml;\n",
              "          element.appendChild(docLink);\n",
              "        }\n",
              "      </script>\n",
              "    </div>\n",
              "  </div>\n",
              "  "
            ]
          },
          "metadata": {},
          "execution_count": 7
        }
      ]
    },
    {
      "cell_type": "markdown",
      "source": [
        "MemberNumber is not unique, meaning for customer focused analysis date must be grouped per MemberNumber"
      ],
      "metadata": {
        "id": "sQ-gpvL4_7Go"
      }
    },
    {
      "cell_type": "markdown",
      "source": [
        "# Redundant columns"
      ],
      "metadata": {
        "id": "LvEE0WKpWS2i"
      }
    },
    {
      "cell_type": "markdown",
      "source": [
        "Some information seem redundant"
      ],
      "metadata": {
        "id": "IJxhec44UXLC"
      }
    },
    {
      "cell_type": "code",
      "source": [
        "data[['NextRenewalDate', 'NextRenewalMonth', 'NextRenewalDay']]"
      ],
      "metadata": {
        "colab": {
          "base_uri": "https://localhost:8080/",
          "height": 424
        },
        "id": "owJ0nWuvUWcQ",
        "outputId": "49cc54ed-ebf2-45ac-879f-fe2e9005ad3b"
      },
      "execution_count": 8,
      "outputs": [
        {
          "output_type": "execute_result",
          "data": {
            "text/plain": [
              "     NextRenewalDate  NextRenewalMonth  NextRenewalDay\n",
              "0        4/2/24 0:00               4.0               2\n",
              "1        4/2/24 0:00               4.0               2\n",
              "2        4/1/24 0:00               4.0               1\n",
              "3        4/1/24 0:00               4.0               1\n",
              "4        4/1/24 0:00               4.0               1\n",
              "...              ...               ...             ...\n",
              "9794    6/29/23 0:00               6.0              29\n",
              "9795   10/12/22 0:00              10.0              12\n",
              "9796   10/12/22 0:00              10.0              12\n",
              "9797   10/12/22 0:00              10.0              12\n",
              "9798   10/12/22 0:00              10.0              12\n",
              "\n",
              "[9799 rows x 3 columns]"
            ],
            "text/html": [
              "\n",
              "  <div id=\"df-52fa5c21-2d06-4387-b972-40b0370259a5\">\n",
              "    <div class=\"colab-df-container\">\n",
              "      <div>\n",
              "<style scoped>\n",
              "    .dataframe tbody tr th:only-of-type {\n",
              "        vertical-align: middle;\n",
              "    }\n",
              "\n",
              "    .dataframe tbody tr th {\n",
              "        vertical-align: top;\n",
              "    }\n",
              "\n",
              "    .dataframe thead th {\n",
              "        text-align: right;\n",
              "    }\n",
              "</style>\n",
              "<table border=\"1\" class=\"dataframe\">\n",
              "  <thead>\n",
              "    <tr style=\"text-align: right;\">\n",
              "      <th></th>\n",
              "      <th>NextRenewalDate</th>\n",
              "      <th>NextRenewalMonth</th>\n",
              "      <th>NextRenewalDay</th>\n",
              "    </tr>\n",
              "  </thead>\n",
              "  <tbody>\n",
              "    <tr>\n",
              "      <th>0</th>\n",
              "      <td>4/2/24 0:00</td>\n",
              "      <td>4.0</td>\n",
              "      <td>2</td>\n",
              "    </tr>\n",
              "    <tr>\n",
              "      <th>1</th>\n",
              "      <td>4/2/24 0:00</td>\n",
              "      <td>4.0</td>\n",
              "      <td>2</td>\n",
              "    </tr>\n",
              "    <tr>\n",
              "      <th>2</th>\n",
              "      <td>4/1/24 0:00</td>\n",
              "      <td>4.0</td>\n",
              "      <td>1</td>\n",
              "    </tr>\n",
              "    <tr>\n",
              "      <th>3</th>\n",
              "      <td>4/1/24 0:00</td>\n",
              "      <td>4.0</td>\n",
              "      <td>1</td>\n",
              "    </tr>\n",
              "    <tr>\n",
              "      <th>4</th>\n",
              "      <td>4/1/24 0:00</td>\n",
              "      <td>4.0</td>\n",
              "      <td>1</td>\n",
              "    </tr>\n",
              "    <tr>\n",
              "      <th>...</th>\n",
              "      <td>...</td>\n",
              "      <td>...</td>\n",
              "      <td>...</td>\n",
              "    </tr>\n",
              "    <tr>\n",
              "      <th>9794</th>\n",
              "      <td>6/29/23 0:00</td>\n",
              "      <td>6.0</td>\n",
              "      <td>29</td>\n",
              "    </tr>\n",
              "    <tr>\n",
              "      <th>9795</th>\n",
              "      <td>10/12/22 0:00</td>\n",
              "      <td>10.0</td>\n",
              "      <td>12</td>\n",
              "    </tr>\n",
              "    <tr>\n",
              "      <th>9796</th>\n",
              "      <td>10/12/22 0:00</td>\n",
              "      <td>10.0</td>\n",
              "      <td>12</td>\n",
              "    </tr>\n",
              "    <tr>\n",
              "      <th>9797</th>\n",
              "      <td>10/12/22 0:00</td>\n",
              "      <td>10.0</td>\n",
              "      <td>12</td>\n",
              "    </tr>\n",
              "    <tr>\n",
              "      <th>9798</th>\n",
              "      <td>10/12/22 0:00</td>\n",
              "      <td>10.0</td>\n",
              "      <td>12</td>\n",
              "    </tr>\n",
              "  </tbody>\n",
              "</table>\n",
              "<p>9799 rows × 3 columns</p>\n",
              "</div>\n",
              "      <button class=\"colab-df-convert\" onclick=\"convertToInteractive('df-52fa5c21-2d06-4387-b972-40b0370259a5')\"\n",
              "              title=\"Convert this dataframe to an interactive table.\"\n",
              "              style=\"display:none;\">\n",
              "        \n",
              "  <svg xmlns=\"http://www.w3.org/2000/svg\" height=\"24px\"viewBox=\"0 0 24 24\"\n",
              "       width=\"24px\">\n",
              "    <path d=\"M0 0h24v24H0V0z\" fill=\"none\"/>\n",
              "    <path d=\"M18.56 5.44l.94 2.06.94-2.06 2.06-.94-2.06-.94-.94-2.06-.94 2.06-2.06.94zm-11 1L8.5 8.5l.94-2.06 2.06-.94-2.06-.94L8.5 2.5l-.94 2.06-2.06.94zm10 10l.94 2.06.94-2.06 2.06-.94-2.06-.94-.94-2.06-.94 2.06-2.06.94z\"/><path d=\"M17.41 7.96l-1.37-1.37c-.4-.4-.92-.59-1.43-.59-.52 0-1.04.2-1.43.59L10.3 9.45l-7.72 7.72c-.78.78-.78 2.05 0 2.83L4 21.41c.39.39.9.59 1.41.59.51 0 1.02-.2 1.41-.59l7.78-7.78 2.81-2.81c.8-.78.8-2.07 0-2.86zM5.41 20L4 18.59l7.72-7.72 1.47 1.35L5.41 20z\"/>\n",
              "  </svg>\n",
              "      </button>\n",
              "      \n",
              "  <style>\n",
              "    .colab-df-container {\n",
              "      display:flex;\n",
              "      flex-wrap:wrap;\n",
              "      gap: 12px;\n",
              "    }\n",
              "\n",
              "    .colab-df-convert {\n",
              "      background-color: #E8F0FE;\n",
              "      border: none;\n",
              "      border-radius: 50%;\n",
              "      cursor: pointer;\n",
              "      display: none;\n",
              "      fill: #1967D2;\n",
              "      height: 32px;\n",
              "      padding: 0 0 0 0;\n",
              "      width: 32px;\n",
              "    }\n",
              "\n",
              "    .colab-df-convert:hover {\n",
              "      background-color: #E2EBFA;\n",
              "      box-shadow: 0px 1px 2px rgba(60, 64, 67, 0.3), 0px 1px 3px 1px rgba(60, 64, 67, 0.15);\n",
              "      fill: #174EA6;\n",
              "    }\n",
              "\n",
              "    [theme=dark] .colab-df-convert {\n",
              "      background-color: #3B4455;\n",
              "      fill: #D2E3FC;\n",
              "    }\n",
              "\n",
              "    [theme=dark] .colab-df-convert:hover {\n",
              "      background-color: #434B5C;\n",
              "      box-shadow: 0px 1px 3px 1px rgba(0, 0, 0, 0.15);\n",
              "      filter: drop-shadow(0px 1px 2px rgba(0, 0, 0, 0.3));\n",
              "      fill: #FFFFFF;\n",
              "    }\n",
              "  </style>\n",
              "\n",
              "      <script>\n",
              "        const buttonEl =\n",
              "          document.querySelector('#df-52fa5c21-2d06-4387-b972-40b0370259a5 button.colab-df-convert');\n",
              "        buttonEl.style.display =\n",
              "          google.colab.kernel.accessAllowed ? 'block' : 'none';\n",
              "\n",
              "        async function convertToInteractive(key) {\n",
              "          const element = document.querySelector('#df-52fa5c21-2d06-4387-b972-40b0370259a5');\n",
              "          const dataTable =\n",
              "            await google.colab.kernel.invokeFunction('convertToInteractive',\n",
              "                                                     [key], {});\n",
              "          if (!dataTable) return;\n",
              "\n",
              "          const docLinkHtml = 'Like what you see? Visit the ' +\n",
              "            '<a target=\"_blank\" href=https://colab.research.google.com/notebooks/data_table.ipynb>data table notebook</a>'\n",
              "            + ' to learn more about interactive tables.';\n",
              "          element.innerHTML = '';\n",
              "          dataTable['output_type'] = 'display_data';\n",
              "          await google.colab.output.renderOutput(dataTable, element);\n",
              "          const docLink = document.createElement('div');\n",
              "          docLink.innerHTML = docLinkHtml;\n",
              "          element.appendChild(docLink);\n",
              "        }\n",
              "      </script>\n",
              "    </div>\n",
              "  </div>\n",
              "  "
            ]
          },
          "metadata": {},
          "execution_count": 8
        }
      ]
    },
    {
      "cell_type": "code",
      "source": [
        "data[['CommencementDate', 'CommencementMonth', 'CommencementYear']]"
      ],
      "metadata": {
        "colab": {
          "base_uri": "https://localhost:8080/",
          "height": 424
        },
        "id": "vgsy7T5dVZn6",
        "outputId": "9250570d-fec2-4f2a-d752-08b216ae8546"
      },
      "execution_count": 9,
      "outputs": [
        {
          "output_type": "execute_result",
          "data": {
            "text/plain": [
              "     CommencementDate  CommencementMonth  CommencementYear\n",
              "0        4/22/04 0:00                  4              2004\n",
              "1        4/22/04 0:00                  4              2004\n",
              "2        5/26/04 0:00                  5              2004\n",
              "3        5/26/04 0:00                  5              2004\n",
              "4        5/26/04 0:00                  5              2004\n",
              "...               ...                ...               ...\n",
              "9794     6/29/17 0:00                  6              2017\n",
              "9795    10/12/22 0:00                 10              2022\n",
              "9796    10/12/22 0:00                 10              2022\n",
              "9797    10/12/22 0:00                 10              2022\n",
              "9798    10/12/22 0:00                 10              2022\n",
              "\n",
              "[9799 rows x 3 columns]"
            ],
            "text/html": [
              "\n",
              "  <div id=\"df-d345378d-26f0-4c9b-8265-c063a4fe60ff\">\n",
              "    <div class=\"colab-df-container\">\n",
              "      <div>\n",
              "<style scoped>\n",
              "    .dataframe tbody tr th:only-of-type {\n",
              "        vertical-align: middle;\n",
              "    }\n",
              "\n",
              "    .dataframe tbody tr th {\n",
              "        vertical-align: top;\n",
              "    }\n",
              "\n",
              "    .dataframe thead th {\n",
              "        text-align: right;\n",
              "    }\n",
              "</style>\n",
              "<table border=\"1\" class=\"dataframe\">\n",
              "  <thead>\n",
              "    <tr style=\"text-align: right;\">\n",
              "      <th></th>\n",
              "      <th>CommencementDate</th>\n",
              "      <th>CommencementMonth</th>\n",
              "      <th>CommencementYear</th>\n",
              "    </tr>\n",
              "  </thead>\n",
              "  <tbody>\n",
              "    <tr>\n",
              "      <th>0</th>\n",
              "      <td>4/22/04 0:00</td>\n",
              "      <td>4</td>\n",
              "      <td>2004</td>\n",
              "    </tr>\n",
              "    <tr>\n",
              "      <th>1</th>\n",
              "      <td>4/22/04 0:00</td>\n",
              "      <td>4</td>\n",
              "      <td>2004</td>\n",
              "    </tr>\n",
              "    <tr>\n",
              "      <th>2</th>\n",
              "      <td>5/26/04 0:00</td>\n",
              "      <td>5</td>\n",
              "      <td>2004</td>\n",
              "    </tr>\n",
              "    <tr>\n",
              "      <th>3</th>\n",
              "      <td>5/26/04 0:00</td>\n",
              "      <td>5</td>\n",
              "      <td>2004</td>\n",
              "    </tr>\n",
              "    <tr>\n",
              "      <th>4</th>\n",
              "      <td>5/26/04 0:00</td>\n",
              "      <td>5</td>\n",
              "      <td>2004</td>\n",
              "    </tr>\n",
              "    <tr>\n",
              "      <th>...</th>\n",
              "      <td>...</td>\n",
              "      <td>...</td>\n",
              "      <td>...</td>\n",
              "    </tr>\n",
              "    <tr>\n",
              "      <th>9794</th>\n",
              "      <td>6/29/17 0:00</td>\n",
              "      <td>6</td>\n",
              "      <td>2017</td>\n",
              "    </tr>\n",
              "    <tr>\n",
              "      <th>9795</th>\n",
              "      <td>10/12/22 0:00</td>\n",
              "      <td>10</td>\n",
              "      <td>2022</td>\n",
              "    </tr>\n",
              "    <tr>\n",
              "      <th>9796</th>\n",
              "      <td>10/12/22 0:00</td>\n",
              "      <td>10</td>\n",
              "      <td>2022</td>\n",
              "    </tr>\n",
              "    <tr>\n",
              "      <th>9797</th>\n",
              "      <td>10/12/22 0:00</td>\n",
              "      <td>10</td>\n",
              "      <td>2022</td>\n",
              "    </tr>\n",
              "    <tr>\n",
              "      <th>9798</th>\n",
              "      <td>10/12/22 0:00</td>\n",
              "      <td>10</td>\n",
              "      <td>2022</td>\n",
              "    </tr>\n",
              "  </tbody>\n",
              "</table>\n",
              "<p>9799 rows × 3 columns</p>\n",
              "</div>\n",
              "      <button class=\"colab-df-convert\" onclick=\"convertToInteractive('df-d345378d-26f0-4c9b-8265-c063a4fe60ff')\"\n",
              "              title=\"Convert this dataframe to an interactive table.\"\n",
              "              style=\"display:none;\">\n",
              "        \n",
              "  <svg xmlns=\"http://www.w3.org/2000/svg\" height=\"24px\"viewBox=\"0 0 24 24\"\n",
              "       width=\"24px\">\n",
              "    <path d=\"M0 0h24v24H0V0z\" fill=\"none\"/>\n",
              "    <path d=\"M18.56 5.44l.94 2.06.94-2.06 2.06-.94-2.06-.94-.94-2.06-.94 2.06-2.06.94zm-11 1L8.5 8.5l.94-2.06 2.06-.94-2.06-.94L8.5 2.5l-.94 2.06-2.06.94zm10 10l.94 2.06.94-2.06 2.06-.94-2.06-.94-.94-2.06-.94 2.06-2.06.94z\"/><path d=\"M17.41 7.96l-1.37-1.37c-.4-.4-.92-.59-1.43-.59-.52 0-1.04.2-1.43.59L10.3 9.45l-7.72 7.72c-.78.78-.78 2.05 0 2.83L4 21.41c.39.39.9.59 1.41.59.51 0 1.02-.2 1.41-.59l7.78-7.78 2.81-2.81c.8-.78.8-2.07 0-2.86zM5.41 20L4 18.59l7.72-7.72 1.47 1.35L5.41 20z\"/>\n",
              "  </svg>\n",
              "      </button>\n",
              "      \n",
              "  <style>\n",
              "    .colab-df-container {\n",
              "      display:flex;\n",
              "      flex-wrap:wrap;\n",
              "      gap: 12px;\n",
              "    }\n",
              "\n",
              "    .colab-df-convert {\n",
              "      background-color: #E8F0FE;\n",
              "      border: none;\n",
              "      border-radius: 50%;\n",
              "      cursor: pointer;\n",
              "      display: none;\n",
              "      fill: #1967D2;\n",
              "      height: 32px;\n",
              "      padding: 0 0 0 0;\n",
              "      width: 32px;\n",
              "    }\n",
              "\n",
              "    .colab-df-convert:hover {\n",
              "      background-color: #E2EBFA;\n",
              "      box-shadow: 0px 1px 2px rgba(60, 64, 67, 0.3), 0px 1px 3px 1px rgba(60, 64, 67, 0.15);\n",
              "      fill: #174EA6;\n",
              "    }\n",
              "\n",
              "    [theme=dark] .colab-df-convert {\n",
              "      background-color: #3B4455;\n",
              "      fill: #D2E3FC;\n",
              "    }\n",
              "\n",
              "    [theme=dark] .colab-df-convert:hover {\n",
              "      background-color: #434B5C;\n",
              "      box-shadow: 0px 1px 3px 1px rgba(0, 0, 0, 0.15);\n",
              "      filter: drop-shadow(0px 1px 2px rgba(0, 0, 0, 0.3));\n",
              "      fill: #FFFFFF;\n",
              "    }\n",
              "  </style>\n",
              "\n",
              "      <script>\n",
              "        const buttonEl =\n",
              "          document.querySelector('#df-d345378d-26f0-4c9b-8265-c063a4fe60ff button.colab-df-convert');\n",
              "        buttonEl.style.display =\n",
              "          google.colab.kernel.accessAllowed ? 'block' : 'none';\n",
              "\n",
              "        async function convertToInteractive(key) {\n",
              "          const element = document.querySelector('#df-d345378d-26f0-4c9b-8265-c063a4fe60ff');\n",
              "          const dataTable =\n",
              "            await google.colab.kernel.invokeFunction('convertToInteractive',\n",
              "                                                     [key], {});\n",
              "          if (!dataTable) return;\n",
              "\n",
              "          const docLinkHtml = 'Like what you see? Visit the ' +\n",
              "            '<a target=\"_blank\" href=https://colab.research.google.com/notebooks/data_table.ipynb>data table notebook</a>'\n",
              "            + ' to learn more about interactive tables.';\n",
              "          element.innerHTML = '';\n",
              "          dataTable['output_type'] = 'display_data';\n",
              "          await google.colab.output.renderOutput(dataTable, element);\n",
              "          const docLink = document.createElement('div');\n",
              "          docLink.innerHTML = docLinkHtml;\n",
              "          element.appendChild(docLink);\n",
              "        }\n",
              "      </script>\n",
              "    </div>\n",
              "  </div>\n",
              "  "
            ]
          },
          "metadata": {},
          "execution_count": 9
        }
      ]
    },
    {
      "cell_type": "markdown",
      "source": [
        "We can drop the columns: 'CommencementMonth', 'CommencementYear', 'NextRenewalMonth', 'NextRenewalDay'"
      ],
      "metadata": {
        "id": "ZAt966SCU2NF"
      }
    },
    {
      "cell_type": "code",
      "source": [
        "#drop columns\n",
        "data.drop(['CommencementMonth', 'CommencementYear', 'NextRenewalMonth', 'NextRenewalDay'], axis=1, inplace=True)"
      ],
      "metadata": {
        "id": "CDdKCK80UWXU"
      },
      "execution_count": 10,
      "outputs": []
    },
    {
      "cell_type": "markdown",
      "source": [
        "Birthday information can be inferred "
      ],
      "metadata": {
        "id": "RcmhW4kmWWsb"
      }
    },
    {
      "cell_type": "code",
      "source": [
        "data[['75thBirthday', '75before2262010', '77thBirthday', 'DOB'] ].isnull().sum()"
      ],
      "metadata": {
        "colab": {
          "base_uri": "https://localhost:8080/"
        },
        "id": "QZuULrRFUWTd",
        "outputId": "a15305e0-4b9b-445c-bc56-c412db182d41"
      },
      "execution_count": 11,
      "outputs": [
        {
          "output_type": "execute_result",
          "data": {
            "text/plain": [
              "75thBirthday       2\n",
              "75before2262010    0\n",
              "77thBirthday       2\n",
              "DOB                2\n",
              "dtype: int64"
            ]
          },
          "metadata": {},
          "execution_count": 11
        }
      ]
    },
    {
      "cell_type": "code",
      "source": [
        "data.loc[(data['75thBirthday'].isnull()) & (data['77thBirthday'].isnull()) & (data['DOB'].isnull()) , '75before2262010']"
      ],
      "metadata": {
        "colab": {
          "base_uri": "https://localhost:8080/"
        },
        "id": "StPdjTLYT_ob",
        "outputId": "e370bd6a-895d-4514-8e4e-aba034b269a9"
      },
      "execution_count": 12,
      "outputs": [
        {
          "output_type": "execute_result",
          "data": {
            "text/plain": [
              "423    N\n",
              "424    N\n",
              "Name: 75before2262010, dtype: object"
            ]
          },
          "metadata": {},
          "execution_count": 12
        }
      ]
    },
    {
      "cell_type": "markdown",
      "source": [
        "Since NAN values are the same, there is no additional information in keeping the birthday columns."
      ],
      "metadata": {
        "id": "9ShCK3WpYiJ3"
      }
    },
    {
      "cell_type": "code",
      "source": [
        "#drop columns\n",
        "data.drop(['75thBirthday', '77thBirthday', '75before2262010'], axis=1, inplace=True)"
      ],
      "metadata": {
        "id": "aats9jqEWkqd"
      },
      "execution_count": 13,
      "outputs": []
    },
    {
      "cell_type": "markdown",
      "source": [
        "# Checking missing values"
      ],
      "metadata": {
        "id": "wzeEVDNw6JYQ"
      }
    },
    {
      "cell_type": "code",
      "source": [
        "#create a dataframes with percentages of missing values\n",
        "missing = pd.DataFrame(columns = ['% Missing values'],data = 100*round(data.isnull().sum().sort_values(ascending = False)/len(data),2))\n",
        "missing_nz = missing[missing['% Missing values']>0.0].reset_index().rename(columns={'index': 'variables'})\n",
        "\n",
        "\n",
        "#Plot missing values\n",
        "#plt.style.use('ggplot')\n",
        "fig, ax = plt.subplots(1,1, figsize=(30,10))\n",
        "\n",
        "ax.set_title('NA values in dataset')\n",
        "sns.barplot(data=missing_nz,x=missing_nz.variables,y=missing_nz['% Missing values'], orient = 'v', ax = ax)\n",
        "ax.set_xticklabels(ax.get_xticklabels(), rotation=45, horizontalalignment='right')\n",
        "plt.show()"
      ],
      "metadata": {
        "colab": {
          "base_uri": "https://localhost:8080/",
          "height": 643
        },
        "id": "EvfYR0di3ePj",
        "outputId": "2120969d-cddf-4f4e-8514-1b3566808fa3"
      },
      "execution_count": 14,
      "outputs": [
        {
          "output_type": "display_data",
          "data": {
            "text/plain": [
              "<Figure size 2160x720 with 1 Axes>"
            ],
            "image/png": "[encoded data removed]"
          },
          "metadata": {
            "needs_background": "light"
          }
        }
      ]
    },
    {
      "cell_type": "code",
      "source": [
        "print(missing[missing['% Missing values']>90].count())\n",
        "print(missing[(missing['% Missing values']>40) & (missing['% Missing values']<=60)].count())\n",
        "print(missing[missing['% Missing values']<=20].count())"
      ],
      "metadata": {
        "colab": {
          "base_uri": "https://localhost:8080/"
        },
        "id": "UulwIN_i8Gmd",
        "outputId": "6502da6e-0471-41e3-f798-e0df295aafde"
      },
      "execution_count": 15,
      "outputs": [
        {
          "output_type": "stream",
          "name": "stdout",
          "text": [
            "% Missing values    27\n",
            "dtype: int64\n",
            "% Missing values    5\n",
            "dtype: int64\n",
            "% Missing values    31\n",
            "dtype: int64\n"
          ]
        }
      ]
    },
    {
      "cell_type": "markdown",
      "source": [
        "Missing values can be classified as follows  \n",
        "* 27 variables do have a high portion of missing values (close to 100%) --> these variables will be dropped \n",
        "* 5 variables have a portion of missing values between 40% and 60% \n",
        "* 31 variebles have less than 20% missing values"
      ],
      "metadata": {
        "id": "4z0oxCqw-ZI9"
      }
    },
    {
      "cell_type": "code",
      "source": [
        "# dropping variables with very high No of missing values\n",
        "remove = list(missing[missing['% Missing values']>90].index)\n",
        "data.drop(remove, inplace =True, axis =1)"
      ],
      "metadata": {
        "id": "P4NTckOl-Kqr"
      },
      "execution_count": 16,
      "outputs": []
    },
    {
      "cell_type": "markdown",
      "source": [
        "# Check duplicated rows"
      ],
      "metadata": {
        "id": "faXpWqCebTqX"
      }
    },
    {
      "cell_type": "code",
      "source": [
        "data.duplicated().sum()"
      ],
      "metadata": {
        "colab": {
          "base_uri": "https://localhost:8080/"
        },
        "id": "CHCykjhFPmqh",
        "outputId": "d1d85e17-c53b-488b-81a5-b58f444df269"
      },
      "execution_count": 17,
      "outputs": [
        {
          "output_type": "execute_result",
          "data": {
            "text/plain": [
              "0"
            ]
          },
          "metadata": {},
          "execution_count": 17
        }
      ]
    },
    {
      "cell_type": "markdown",
      "source": [
        "No duplicate rows"
      ],
      "metadata": {
        "id": "du9utOXsbeBy"
      }
    },
    {
      "cell_type": "markdown",
      "source": [
        "# Analysing customer variables"
      ],
      "metadata": {
        "id": "r5tA2RVjqBwa"
      }
    },
    {
      "cell_type": "markdown",
      "source": [
        "Age at commencement"
      ],
      "metadata": {
        "id": "BLFx4w3NqbLu"
      }
    },
    {
      "cell_type": "code",
      "source": [
        "data['DOB'].isnull().sum()"
      ],
      "metadata": {
        "colab": {
          "base_uri": "https://localhost:8080/"
        },
        "id": "Min91fyBqXxW",
        "outputId": "f4cd35db-cfcd-4ad6-e84b-708beb6a7b93"
      },
      "execution_count": 18,
      "outputs": [
        {
          "output_type": "execute_result",
          "data": {
            "text/plain": [
              "2"
            ]
          },
          "metadata": {},
          "execution_count": 18
        }
      ]
    },
    {
      "cell_type": "code",
      "source": [
        "#creating dataframe with unique members\n",
        "df_commencement = data[['MemberNumber', 'DOB', 'CommencementDate']].copy()\n",
        "df_commencement.duplicated\n"
      ],
      "metadata": {
        "colab": {
          "base_uri": "https://localhost:8080/"
        },
        "id": "h2qG1iTRA8C8",
        "outputId": "62aa05ad-25e0-49b2-b05b-2b6b7739e04e"
      },
      "execution_count": 19,
      "outputs": [
        {
          "output_type": "execute_result",
          "data": {
            "text/plain": [
              "<bound method DataFrame.duplicated of       MemberNumber            DOB CommencementDate\n",
              "0               12    6/9/52 0:00     4/22/04 0:00\n",
              "1               12    6/9/52 0:00     4/22/04 0:00\n",
              "2               19  12/12/47 0:00     5/26/04 0:00\n",
              "3               19  12/12/47 0:00     5/26/04 0:00\n",
              "4               20    2/7/48 0:00     5/26/04 0:00\n",
              "...            ...            ...              ...\n",
              "9794          2765   10/9/60 0:00     6/29/17 0:00\n",
              "9795          7211    2/6/62 0:00    10/12/22 0:00\n",
              "9796          7211    2/6/62 0:00    10/12/22 0:00\n",
              "9797          7213   4/18/67 0:00    10/12/22 0:00\n",
              "9798          7213   4/18/67 0:00    10/12/22 0:00\n",
              "\n",
              "[9799 rows x 3 columns]>"
            ]
          },
          "metadata": {},
          "execution_count": 19
        }
      ]
    },
    {
      "cell_type": "code",
      "source": [
        "# removing duplicates\n",
        "\n",
        "df_commencement = df_commencement.drop_duplicates()"
      ],
      "metadata": {
        "id": "OhtG0PmeCRv8"
      },
      "execution_count": 24,
      "outputs": []
    },
    {
      "cell_type": "code",
      "source": [
        "# formating DOB column\n",
        "df_commencement['DOB'] = pd.to_datetime(data['DOB'])\n",
        "df_commencement.loc[df_commencement['DOB'].dt.year >= 2020, 'DOB'] -= pd.DateOffset(years=100)"
      ],
      "metadata": {
        "id": "iUuz2AMqx1_0"
      },
      "execution_count": null,
      "outputs": []
    },
    {
      "cell_type": "code",
      "source": [
        "# calculate Age at commencement by CommencementDate - DOB (date of birth)\n",
        "\n",
        "df_commencement['CommencementDate'] = pd.to_datetime(df_commencement['CommencementDate'])\n",
        "\n",
        "df_commencement['Age at commencement'] = (df_commencement['CommencementDate'] - df_commencement['DOB']).dt.days / 365.25"
      ],
      "metadata": {
        "id": "litDbNFvqz9h"
      },
      "execution_count": null,
      "outputs": []
    },
    {
      "cell_type": "code",
      "source": [
        "df_commencement.info()"
      ],
      "metadata": {
        "colab": {
          "base_uri": "https://localhost:8080/"
        },
        "id": "WUmsHbD3GMJw",
        "outputId": "5482bd95-bbc9-4faa-d4d6-b54c24226bff"
      },
      "execution_count": 28,
      "outputs": [
        {
          "output_type": "stream",
          "name": "stdout",
          "text": [
            "<class 'pandas.core.frame.DataFrame'>\n",
            "Int64Index: 4689 entries, 0 to 9797\n",
            "Data columns (total 4 columns):\n",
            " #   Column               Non-Null Count  Dtype         \n",
            "---  ------               --------------  -----         \n",
            " 0   MemberNumber         4689 non-null   int64         \n",
            " 1   DOB                  4687 non-null   datetime64[ns]\n",
            " 2   CommencementDate     4689 non-null   datetime64[ns]\n",
            " 3   Age at commencement  4687 non-null   float64       \n",
            "dtypes: datetime64[ns](2), float64(1), int64(1)\n",
            "memory usage: 183.2 KB\n"
          ]
        }
      ]
    },
    {
      "cell_type": "code",
      "source": [
        "df_commencement['Age at commencement'].mean()"
      ],
      "metadata": {
        "colab": {
          "base_uri": "https://localhost:8080/"
        },
        "id": "7Giymyx8133r",
        "outputId": "7ffedd70-920e-4954-9889-d40fd63dfe48"
      },
      "execution_count": 29,
      "outputs": [
        {
          "output_type": "execute_result",
          "data": {
            "text/plain": [
              "52.39262661209073"
            ]
          },
          "metadata": {},
          "execution_count": 29
        }
      ]
    },
    {
      "cell_type": "code",
      "source": [
        "# Plot the data\n",
        "fig, axes = plt.subplots(1, 1, figsize = (20, 6))\n",
        "fig.suptitle('Histogram for Age at commencement')\n",
        "sns.histplot(x = 'Age at commencement', data = df_commencement, kde = True, ax = axes)\n",
        "plt.axvline(x=df_commencement['Age at commencement'].mean(), linestyle=\"--\", label = 'Mean', ymax = 0.9,\n",
        "            color='red')\n",
        "plt.text(50,550,'Mean Age')\n",
        "plt.show()\n"
      ],
      "metadata": {
        "colab": {
          "base_uri": "https://localhost:8080/",
          "height": 543
        },
        "id": "RD1MPzvBy8id",
        "outputId": "13f624dd-da86-4600-bb7a-ac8adc70d3df"
      },
      "execution_count": 30,
      "outputs": [
        {
          "output_type": "display_data",
          "data": {
            "text/plain": [
              "<Figure size 1440x432 with 1 Axes>"
            ],
            "image/png": "[encoded data removed]"
          },
          "metadata": {
            "needs_background": "light"
          }
        }
      ]
    },
    {
      "cell_type": "markdown",
      "source": [
        "The average age of commencement is at 52 years. The distribution is slightly left-skewed."
      ],
      "metadata": {
        "id": "JHA-sq8c15yH"
      }
    },
    {
      "cell_type": "code",
      "source": [
        "sns.boxplot(x=df_commencement['Age at commencement'] )"
      ],
      "metadata": {
        "colab": {
          "base_uri": "https://localhost:8080/",
          "height": 296
        },
        "id": "tGEwiCXay8fI",
        "outputId": "8fe55d60-ded7-4232-f55c-29a4fd89ab8d"
      },
      "execution_count": 31,
      "outputs": [
        {
          "output_type": "execute_result",
          "data": {
            "text/plain": [
              "<AxesSubplot:xlabel='Age at commencement'>"
            ]
          },
          "metadata": {},
          "execution_count": 31
        },
        {
          "output_type": "display_data",
          "data": {
            "text/plain": [
              "<Figure size 432x288 with 1 Axes>"
            ],
            "image/png": "[encoded data removed]"
          },
          "metadata": {
            "needs_background": "light"
          }
        }
      ]
    },
    {
      "cell_type": "code",
      "source": [
        "df_commencement['Age at commencement'].describe().T"
      ],
      "metadata": {
        "colab": {
          "base_uri": "https://localhost:8080/"
        },
        "id": "ZAbzpAxWy8be",
        "outputId": "35f87ec5-fdfc-41d3-bc27-803ff92069bd"
      },
      "execution_count": 32,
      "outputs": [
        {
          "output_type": "execute_result",
          "data": {
            "text/plain": [
              "count    4687.000000\n",
              "mean       52.392627\n",
              "std         7.588930\n",
              "min        16.449008\n",
              "25%        47.347023\n",
              "50%        52.815880\n",
              "75%        57.423682\n",
              "max        86.053388\n",
              "Name: Age at commencement, dtype: float64"
            ]
          },
          "metadata": {},
          "execution_count": 32
        }
      ]
    },
    {
      "cell_type": "markdown",
      "source": [
        "The age at commencement is between 16 and 86 years. 50% of all customers are between 46 and 57 years at commencement."
      ],
      "metadata": {
        "id": "G7X_wYa07F4j"
      }
    },
    {
      "cell_type": "markdown",
      "source": [
        "Size of Investment"
      ],
      "metadata": {
        "id": "ZzXNEKVyGeEp"
      }
    },
    {
      "cell_type": "code",
      "source": [
        "data['ValLatest'].isnull().sum()"
      ],
      "metadata": {
        "colab": {
          "base_uri": "https://localhost:8080/"
        },
        "id": "fV087ONLy8WK",
        "outputId": "22867d55-831f-4a9b-cc98-5b46cffd5e56"
      },
      "execution_count": 37,
      "outputs": [
        {
          "output_type": "execute_result",
          "data": {
            "text/plain": [
              "341"
            ]
          },
          "metadata": {},
          "execution_count": 37
        }
      ]
    },
    {
      "cell_type": "markdown",
      "source": [
        "There is a very small number of NAN values, we use the column mean as imputation."
      ],
      "metadata": {
        "id": "HCa0zTB_IZVD"
      }
    },
    {
      "cell_type": "code",
      "source": [
        "data['ValLatest'] = data['ValLatest'].fillna(data['ValLatest'].mean())"
      ],
      "metadata": {
        "id": "ZL32-_ooUjzI"
      },
      "execution_count": 59,
      "outputs": []
    },
    {
      "cell_type": "code",
      "source": [
        "pd.set_option('display.float_format', lambda x: '%.2f' % x)\n",
        "data.groupby('MemberNumber')['ValLatest'].sum().describe()"
      ],
      "metadata": {
        "colab": {
          "base_uri": "https://localhost:8080/"
        },
        "id": "qEN5vjtqKYwM",
        "outputId": "54cbe1b6-1b95-4762-aa08-e9f3e9ed370e"
      },
      "execution_count": 60,
      "outputs": [
        {
          "output_type": "execute_result",
          "data": {
            "text/plain": [
              "count      4689.00\n",
              "mean     294191.09\n",
              "std      348794.66\n",
              "min        -180.00\n",
              "25%       90312.47\n",
              "50%      181201.00\n",
              "75%      380585.82\n",
              "max     4623396.00\n",
              "Name: ValLatest, dtype: float64"
            ]
          },
          "metadata": {},
          "execution_count": 60
        }
      ]
    },
    {
      "cell_type": "markdown",
      "source": [
        "At average we have 294.191 investment volume.\n",
        "50% are below 181.201"
      ],
      "metadata": {
        "id": "H7lFT034KhPZ"
      }
    },
    {
      "cell_type": "markdown",
      "source": [
        "Plotting distribution without accounting for outliers"
      ],
      "metadata": {
        "id": "sLxu9_SMOY-r"
      }
    },
    {
      "cell_type": "code",
      "source": [
        "# Plot the data\n",
        "df_inv = pd.DataFrame(data.groupby('MemberNumber')['ValLatest'].sum())\n",
        "df_inv.reset_index(inplace=True)\n",
        "\n",
        "fig, axes = plt.subplots(1, 1, figsize = (15, 6))\n",
        "fig.suptitle('Investment size')\n",
        "sns.histplot(x = 'ValLatest', data = df_inv, kde = True, ax = axes)\n",
        "plt.axvline(x=df_inv['ValLatest'].mean(), linestyle=\"--\", label = 'Mean', ymax = 0.9,\n",
        "            color='red')\n",
        "plt.text(150000,550,'Mean Investment')\n",
        "axes.ticklabel_format(useOffset=False, style='plain')\n",
        "plt.show()"
      ],
      "metadata": {
        "colab": {
          "base_uri": "https://localhost:8080/",
          "height": 431
        },
        "id": "zEuFL5kNKSAu",
        "outputId": "2e33fd44-f1ae-4dc1-f5c9-1fed7db73f6c"
      },
      "execution_count": 65,
      "outputs": [
        {
          "output_type": "display_data",
          "data": {
            "text/plain": [
              "<Figure size 1080x432 with 1 Axes>"
            ],
            "image/png": "[encoded data removed]"
          },
          "metadata": {
            "needs_background": "light"
          }
        }
      ]
    },
    {
      "cell_type": "markdown",
      "source": [
        "Check outliers"
      ],
      "metadata": {
        "id": "4xKiE1_vOR6g"
      }
    },
    {
      "cell_type": "code",
      "source": [
        "df_inv.boxplot('ValLatest')"
      ],
      "metadata": {
        "colab": {
          "base_uri": "https://localhost:8080/",
          "height": 293
        },
        "id": "TLBI4aNBy8RG",
        "outputId": "4927ffe4-118c-4b3f-d6a0-226f95188a73"
      },
      "execution_count": 69,
      "outputs": [
        {
          "output_type": "execute_result",
          "data": {
            "text/plain": [
              "<AxesSubplot:>"
            ]
          },
          "metadata": {},
          "execution_count": 69
        },
        {
          "output_type": "display_data",
          "data": {
            "text/plain": [
              "<Figure size 432x288 with 1 Axes>"
            ],
            "image/png": "[encoded data removed]"
          },
          "metadata": {
            "needs_background": "light"
          }
        }
      ]
    },
    {
      "cell_type": "markdown",
      "source": [
        "There are many outliers on the upper side as can be seen by the whiskers plot."
      ],
      "metadata": {
        "id": "UhXGErbaWtp0"
      }
    },
    {
      "cell_type": "markdown",
      "source": [
        "Handling Outliers for Investment size"
      ],
      "metadata": {
        "id": "YgS5KanOWySl"
      }
    },
    {
      "cell_type": "code",
      "source": [
        "Q1 = df_inv['ValLatest'].quantile(0.25)\n",
        "Q3 = df_inv['ValLatest'].quantile(0.75)\n",
        "IQR = Q3 - Q1\n",
        "\n",
        "lower = Q1- 1.5*IQR\n",
        "upper = Q3+ 1.5*IQR"
      ],
      "metadata": {
        "id": "d7cT5PF1WtY4"
      },
      "execution_count": 76,
      "outputs": []
    },
    {
      "cell_type": "code",
      "source": [
        "print(f'Values above {upper} are considered outliers and will be dropped')"
      ],
      "metadata": {
        "colab": {
          "base_uri": "https://localhost:8080/"
        },
        "id": "W1XRqpyNYdUI",
        "outputId": "43f2ba59-1deb-4b64-c00c-dfa6968973a7"
      },
      "execution_count": 77,
      "outputs": [
        {
          "output_type": "stream",
          "name": "stdout",
          "text": [
            "Values above 815995.845 are considered outliers and will be dropped\n"
          ]
        }
      ]
    },
    {
      "cell_type": "code",
      "source": [
        "df_inv_clean = df_inv[~(df_inv['ValLatest']>upper)]"
      ],
      "metadata": {
        "id": "MpVSS3-Zy8L9"
      },
      "execution_count": 81,
      "outputs": []
    },
    {
      "cell_type": "markdown",
      "source": [
        "Investment size woithout outliers"
      ],
      "metadata": {
        "id": "_vH9FCWibVUg"
      }
    },
    {
      "cell_type": "code",
      "source": [
        "fig, axes = plt.subplots(1, 1, figsize = (15, 6))\n",
        "fig.suptitle('Investment size')\n",
        "sns.histplot(x = 'ValLatest', data = df_inv_clean, kde = True)"
      ],
      "metadata": {
        "colab": {
          "base_uri": "https://localhost:8080/",
          "height": 448
        },
        "id": "jXwATguDy8Jh",
        "outputId": "236478c6-2476-4fba-9853-2f10a22dbd8c"
      },
      "execution_count": 83,
      "outputs": [
        {
          "output_type": "execute_result",
          "data": {
            "text/plain": [
              "<AxesSubplot:xlabel='ValLatest', ylabel='Count'>"
            ]
          },
          "metadata": {},
          "execution_count": 83
        },
        {
          "output_type": "display_data",
          "data": {
            "text/plain": [
              "<Figure size 1080x432 with 1 Axes>"
            ],
            "image/png": "[encoded data removed]"
          },
          "metadata": {
            "needs_background": "light"
          }
        }
      ]
    },
    {
      "cell_type": "code",
      "source": [
        "df_inv_clean['ValLatest'].mean()"
      ],
      "metadata": {
        "colab": {
          "base_uri": "https://localhost:8080/"
        },
        "id": "xzubwtW5y8G1",
        "outputId": "34748041-c2ad-432b-e4e4-7d641838aefe"
      },
      "execution_count": 84,
      "outputs": [
        {
          "output_type": "execute_result",
          "data": {
            "text/plain": [
              "225163.64325668477"
            ]
          },
          "metadata": {},
          "execution_count": 84
        }
      ]
    },
    {
      "cell_type": "markdown",
      "source": [
        "The mean without outliers is at 225.163."
      ],
      "metadata": {
        "id": "JoohjJDgbu4o"
      }
    },
    {
      "cell_type": "code",
      "source": [
        "df_inv_clean['ValLatest'].describe()"
      ],
      "metadata": {
        "colab": {
          "base_uri": "https://localhost:8080/"
        },
        "id": "pqPu0Mtfb18U",
        "outputId": "3c2addee-8d36-4f7c-b6d6-6d2189929cf6"
      },
      "execution_count": 86,
      "outputs": [
        {
          "output_type": "execute_result",
          "data": {
            "text/plain": [
              "count     4384.00\n",
              "mean    225163.64\n",
              "std     190146.89\n",
              "min       -180.00\n",
              "25%      85058.05\n",
              "50%     165035.70\n",
              "75%     322898.22\n",
              "max     814197.91\n",
              "Name: ValLatest, dtype: float64"
            ]
          },
          "metadata": {},
          "execution_count": 86
        }
      ]
    },
    {
      "cell_type": "code",
      "source": [
        "df_inv_clean['ValLatest'].count()/df_inv['ValLatest'].count()"
      ],
      "metadata": {
        "colab": {
          "base_uri": "https://localhost:8080/"
        },
        "id": "kTfUlKcDcNqu",
        "outputId": "11244d5b-ee12-45c3-f4d9-010dc1cf459d"
      },
      "execution_count": 91,
      "outputs": [
        {
          "output_type": "execute_result",
          "data": {
            "text/plain": [
              "0.9349541480059714"
            ]
          },
          "metadata": {},
          "execution_count": 91
        }
      ]
    },
    {
      "cell_type": "markdown",
      "source": [
        "About 93 % of all customers hold holdings between -180 and 814.197"
      ],
      "metadata": {
        "id": "Z9wJ86_9b5M7"
      }
    },
    {
      "cell_type": "markdown",
      "source": [
        "# Source of customer"
      ],
      "metadata": {
        "id": "I06Yg2dcc9nz"
      }
    },
    {
      "cell_type": "code",
      "source": [],
      "metadata": {
        "id": "fz5L1opmc_2O"
      },
      "execution_count": null,
      "outputs": []
    },
    {
      "cell_type": "code",
      "source": [],
      "metadata": {
        "id": "mjCbZ7nkc_zL"
      },
      "execution_count": null,
      "outputs": []
    },
    {
      "cell_type": "code",
      "source": [],
      "metadata": {
        "id": "YXCHT-n9c_wb"
      },
      "execution_count": null,
      "outputs": []
    },
    {
      "cell_type": "code",
      "source": [
        "- Age at commencement.\n",
        "- Size of investment\n",
        "- Source of customer"
      ],
      "metadata": {
        "id": "EhmXzW94qAGf"
      },
      "execution_count": null,
      "outputs": []
    }
  ]
}