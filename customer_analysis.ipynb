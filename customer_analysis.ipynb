{
  "nbformat": 4,
  "nbformat_minor": 0,
  "metadata": {
    "colab": {
      "provenance": [],
      "include_colab_link": true
    },
    "kernelspec": {
      "name": "python3",
      "display_name": "Python 3"
    },
    "language_info": {
      "name": "python"
    }
  },
  "cells": [
    {
      "cell_type": "markdown",
      "metadata": {
        "id": "view-in-github",
        "colab_type": "text"
      },
      "source": [
        "<a href=\"https://colab.research.google.com/github/pyagoubi/Customer-Analysis/blob/main/customer_analysis.ipynb\" target=\"_parent\"><img src=\"https://colab.research.google.com/assets/colab-badge.svg\" alt=\"Open In Colab\"/></a>"
      ]
    },
    {
      "cell_type": "code",
      "execution_count": 49,
      "metadata": {
        "colab": {
          "base_uri": "https://localhost:8080/"
        },
        "id": "GX-RYnwkxMr4",
        "outputId": "40deb37a-c4f4-425f-c2ab-8652cbc9adc3"
      },
      "outputs": [
        {
          "output_type": "stream",
          "name": "stdout",
          "text": [
            "Drive already mounted at /content/drive; to attempt to forcibly remount, call drive.mount(\"/content/drive\", force_remount=True).\n"
          ]
        }
      ],
      "source": [
        "#Mounting Google Drive\n",
        "from google.colab import drive\n",
        "drive.mount('/content/drive')"
      ]
    },
    {
      "cell_type": "code",
      "source": [
        "import pandas as pd\n",
        "import seaborn as sns\n",
        "from matplotlib import pyplot as plt\n",
        "import numpy as np"
      ],
      "metadata": {
        "id": "-HjmDjcj1IA2"
      },
      "execution_count": 50,
      "outputs": []
    },
    {
      "cell_type": "code",
      "source": [
        "data = pd.read_csv('/content/drive/MyDrive/upwork2/CutDownfile - Members and holdings 16.02.2023 (1).csv')"
      ],
      "metadata": {
        "colab": {
          "base_uri": "https://localhost:8080/"
        },
        "id": "4zmDlW8qxO4t",
        "outputId": "0ba9114f-a7b9-4ece-a2ea-15165c9cd8fd"
      },
      "execution_count": 51,
      "outputs": [
        {
          "output_type": "stream",
          "name": "stderr",
          "text": [
            "/usr/local/lib/python3.9/dist-packages/IPython/core/interactiveshell.py:3326: DtypeWarning: Columns (5,32,35,43,52,53,58,69) have mixed types.Specify dtype option on import or set low_memory=False.\n",
            "  exec(code_obj, self.user_global_ns, self.user_ns)\n"
          ]
        }
      ]
    },
    {
      "cell_type": "code",
      "source": [
        "data.head(5)"
      ],
      "metadata": {
        "colab": {
          "base_uri": "https://localhost:8080/",
          "height": 386
        },
        "id": "DhH6TDWB1KaF",
        "outputId": "f0c6531d-166c-4bc6-ff1a-8615e4b09c4a"
      },
      "execution_count": 52,
      "outputs": [
        {
          "output_type": "execute_result",
          "data": {
            "text/plain": [
              "   MemberNumber  UserRef  InternalRef2         Country      MemberStatus  \\\n",
              "0            12  MW00012          1.00  United Kingdom  Partial Drawdown   \n",
              "1            12  MW00012          1.00  United Kingdom  Partial Drawdown   \n",
              "2            19  MW00019          2.00  United Kingdom     Full Drawdown   \n",
              "3            19  MW00019          2.00  United Kingdom     Full Drawdown   \n",
              "4            20  MW00020          4.00  United Kingdom     Full Drawdown   \n",
              "\n",
              "  DateofDeath            DOB     Sex ContactforCorres   SARef  ...  \\\n",
              "0         NaN    6/9/52 0:00    Male           Member  SA0001  ...   \n",
              "1         NaN    6/9/52 0:00    Male           Member  SA0001  ...   \n",
              "2         NaN  12/12/47 0:00  Female           Member  SA0001  ...   \n",
              "3         NaN  12/12/47 0:00  Female           Member  SA0001  ...   \n",
              "4         NaN    2/7/48 0:00    Male           Member  SA0001  ...   \n",
              "\n",
              "  CurrentUnitsCalculated CurrentUnitsManual BookValue  CurrentValueCalculated  \\\n",
              "0                    NaN                NaN  62894.57               285342.01   \n",
              "1                    NaN                NaN   5768.16                 5773.80   \n",
              "2                    NaN                NaN   8495.00                    0.00   \n",
              "3                    NaN                NaN  48287.27                47133.99   \n",
              "4                    NaN                NaN  16995.00                    0.00   \n",
              "\n",
              "      ValDate ValLatest VotingRights UserAssClass UserAssGrp UnRegFg  \n",
              "0  11/30/2022 285342.01          NaN          NaN        NaN     NaN  \n",
              "1    2/1/2023   5773.80          NaN          NaN        NaN     NaN  \n",
              "2  12/31/2016      0.00          NaN          NaN        NaN     NaN  \n",
              "3   2/14/2023  47133.99          NaN          NaN        NaN     NaN  \n",
              "4  12/31/2016      0.00          NaN          NaN        NaN     NaN  \n",
              "\n",
              "[5 rows x 70 columns]"
            ],
            "text/html": [
              "\n",
              "  <div id=\"df-0e56c52d-366f-4941-b664-48ba2599e3fd\">\n",
              "    <div class=\"colab-df-container\">\n",
              "      <div>\n",
              "<style scoped>\n",
              "    .dataframe tbody tr th:only-of-type {\n",
              "        vertical-align: middle;\n",
              "    }\n",
              "\n",
              "    .dataframe tbody tr th {\n",
              "        vertical-align: top;\n",
              "    }\n",
              "\n",
              "    .dataframe thead th {\n",
              "        text-align: right;\n",
              "    }\n",
              "</style>\n",
              "<table border=\"1\" class=\"dataframe\">\n",
              "  <thead>\n",
              "    <tr style=\"text-align: right;\">\n",
              "      <th></th>\n",
              "      <th>MemberNumber</th>\n",
              "      <th>UserRef</th>\n",
              "      <th>InternalRef2</th>\n",
              "      <th>Country</th>\n",
              "      <th>MemberStatus</th>\n",
              "      <th>DateofDeath</th>\n",
              "      <th>DOB</th>\n",
              "      <th>Sex</th>\n",
              "      <th>ContactforCorres</th>\n",
              "      <th>SARef</th>\n",
              "      <th>...</th>\n",
              "      <th>CurrentUnitsCalculated</th>\n",
              "      <th>CurrentUnitsManual</th>\n",
              "      <th>BookValue</th>\n",
              "      <th>CurrentValueCalculated</th>\n",
              "      <th>ValDate</th>\n",
              "      <th>ValLatest</th>\n",
              "      <th>VotingRights</th>\n",
              "      <th>UserAssClass</th>\n",
              "      <th>UserAssGrp</th>\n",
              "      <th>UnRegFg</th>\n",
              "    </tr>\n",
              "  </thead>\n",
              "  <tbody>\n",
              "    <tr>\n",
              "      <th>0</th>\n",
              "      <td>12</td>\n",
              "      <td>MW00012</td>\n",
              "      <td>1.00</td>\n",
              "      <td>United Kingdom</td>\n",
              "      <td>Partial Drawdown</td>\n",
              "      <td>NaN</td>\n",
              "      <td>6/9/52 0:00</td>\n",
              "      <td>Male</td>\n",
              "      <td>Member</td>\n",
              "      <td>SA0001</td>\n",
              "      <td>...</td>\n",
              "      <td>NaN</td>\n",
              "      <td>NaN</td>\n",
              "      <td>62894.57</td>\n",
              "      <td>285342.01</td>\n",
              "      <td>11/30/2022</td>\n",
              "      <td>285342.01</td>\n",
              "      <td>NaN</td>\n",
              "      <td>NaN</td>\n",
              "      <td>NaN</td>\n",
              "      <td>NaN</td>\n",
              "    </tr>\n",
              "    <tr>\n",
              "      <th>1</th>\n",
              "      <td>12</td>\n",
              "      <td>MW00012</td>\n",
              "      <td>1.00</td>\n",
              "      <td>United Kingdom</td>\n",
              "      <td>Partial Drawdown</td>\n",
              "      <td>NaN</td>\n",
              "      <td>6/9/52 0:00</td>\n",
              "      <td>Male</td>\n",
              "      <td>Member</td>\n",
              "      <td>SA0001</td>\n",
              "      <td>...</td>\n",
              "      <td>NaN</td>\n",
              "      <td>NaN</td>\n",
              "      <td>5768.16</td>\n",
              "      <td>5773.80</td>\n",
              "      <td>2/1/2023</td>\n",
              "      <td>5773.80</td>\n",
              "      <td>NaN</td>\n",
              "      <td>NaN</td>\n",
              "      <td>NaN</td>\n",
              "      <td>NaN</td>\n",
              "    </tr>\n",
              "    <tr>\n",
              "      <th>2</th>\n",
              "      <td>19</td>\n",
              "      <td>MW00019</td>\n",
              "      <td>2.00</td>\n",
              "      <td>United Kingdom</td>\n",
              "      <td>Full Drawdown</td>\n",
              "      <td>NaN</td>\n",
              "      <td>12/12/47 0:00</td>\n",
              "      <td>Female</td>\n",
              "      <td>Member</td>\n",
              "      <td>SA0001</td>\n",
              "      <td>...</td>\n",
              "      <td>NaN</td>\n",
              "      <td>NaN</td>\n",
              "      <td>8495.00</td>\n",
              "      <td>0.00</td>\n",
              "      <td>12/31/2016</td>\n",
              "      <td>0.00</td>\n",
              "      <td>NaN</td>\n",
              "      <td>NaN</td>\n",
              "      <td>NaN</td>\n",
              "      <td>NaN</td>\n",
              "    </tr>\n",
              "    <tr>\n",
              "      <th>3</th>\n",
              "      <td>19</td>\n",
              "      <td>MW00019</td>\n",
              "      <td>2.00</td>\n",
              "      <td>United Kingdom</td>\n",
              "      <td>Full Drawdown</td>\n",
              "      <td>NaN</td>\n",
              "      <td>12/12/47 0:00</td>\n",
              "      <td>Female</td>\n",
              "      <td>Member</td>\n",
              "      <td>SA0001</td>\n",
              "      <td>...</td>\n",
              "      <td>NaN</td>\n",
              "      <td>NaN</td>\n",
              "      <td>48287.27</td>\n",
              "      <td>47133.99</td>\n",
              "      <td>2/14/2023</td>\n",
              "      <td>47133.99</td>\n",
              "      <td>NaN</td>\n",
              "      <td>NaN</td>\n",
              "      <td>NaN</td>\n",
              "      <td>NaN</td>\n",
              "    </tr>\n",
              "    <tr>\n",
              "      <th>4</th>\n",
              "      <td>20</td>\n",
              "      <td>MW00020</td>\n",
              "      <td>4.00</td>\n",
              "      <td>United Kingdom</td>\n",
              "      <td>Full Drawdown</td>\n",
              "      <td>NaN</td>\n",
              "      <td>2/7/48 0:00</td>\n",
              "      <td>Male</td>\n",
              "      <td>Member</td>\n",
              "      <td>SA0001</td>\n",
              "      <td>...</td>\n",
              "      <td>NaN</td>\n",
              "      <td>NaN</td>\n",
              "      <td>16995.00</td>\n",
              "      <td>0.00</td>\n",
              "      <td>12/31/2016</td>\n",
              "      <td>0.00</td>\n",
              "      <td>NaN</td>\n",
              "      <td>NaN</td>\n",
              "      <td>NaN</td>\n",
              "      <td>NaN</td>\n",
              "    </tr>\n",
              "  </tbody>\n",
              "</table>\n",
              "<p>5 rows × 70 columns</p>\n",
              "</div>\n",
              "      <button class=\"colab-df-convert\" onclick=\"convertToInteractive('df-0e56c52d-366f-4941-b664-48ba2599e3fd')\"\n",
              "              title=\"Convert this dataframe to an interactive table.\"\n",
              "              style=\"display:none;\">\n",
              "        \n",
              "  <svg xmlns=\"http://www.w3.org/2000/svg\" height=\"24px\"viewBox=\"0 0 24 24\"\n",
              "       width=\"24px\">\n",
              "    <path d=\"M0 0h24v24H0V0z\" fill=\"none\"/>\n",
              "    <path d=\"M18.56 5.44l.94 2.06.94-2.06 2.06-.94-2.06-.94-.94-2.06-.94 2.06-2.06.94zm-11 1L8.5 8.5l.94-2.06 2.06-.94-2.06-.94L8.5 2.5l-.94 2.06-2.06.94zm10 10l.94 2.06.94-2.06 2.06-.94-2.06-.94-.94-2.06-.94 2.06-2.06.94z\"/><path d=\"M17.41 7.96l-1.37-1.37c-.4-.4-.92-.59-1.43-.59-.52 0-1.04.2-1.43.59L10.3 9.45l-7.72 7.72c-.78.78-.78 2.05 0 2.83L4 21.41c.39.39.9.59 1.41.59.51 0 1.02-.2 1.41-.59l7.78-7.78 2.81-2.81c.8-.78.8-2.07 0-2.86zM5.41 20L4 18.59l7.72-7.72 1.47 1.35L5.41 20z\"/>\n",
              "  </svg>\n",
              "      </button>\n",
              "      \n",
              "  <style>\n",
              "    .colab-df-container {\n",
              "      display:flex;\n",
              "      flex-wrap:wrap;\n",
              "      gap: 12px;\n",
              "    }\n",
              "\n",
              "    .colab-df-convert {\n",
              "      background-color: #E8F0FE;\n",
              "      border: none;\n",
              "      border-radius: 50%;\n",
              "      cursor: pointer;\n",
              "      display: none;\n",
              "      fill: #1967D2;\n",
              "      height: 32px;\n",
              "      padding: 0 0 0 0;\n",
              "      width: 32px;\n",
              "    }\n",
              "\n",
              "    .colab-df-convert:hover {\n",
              "      background-color: #E2EBFA;\n",
              "      box-shadow: 0px 1px 2px rgba(60, 64, 67, 0.3), 0px 1px 3px 1px rgba(60, 64, 67, 0.15);\n",
              "      fill: #174EA6;\n",
              "    }\n",
              "\n",
              "    [theme=dark] .colab-df-convert {\n",
              "      background-color: #3B4455;\n",
              "      fill: #D2E3FC;\n",
              "    }\n",
              "\n",
              "    [theme=dark] .colab-df-convert:hover {\n",
              "      background-color: #434B5C;\n",
              "      box-shadow: 0px 1px 3px 1px rgba(0, 0, 0, 0.15);\n",
              "      filter: drop-shadow(0px 1px 2px rgba(0, 0, 0, 0.3));\n",
              "      fill: #FFFFFF;\n",
              "    }\n",
              "  </style>\n",
              "\n",
              "      <script>\n",
              "        const buttonEl =\n",
              "          document.querySelector('#df-0e56c52d-366f-4941-b664-48ba2599e3fd button.colab-df-convert');\n",
              "        buttonEl.style.display =\n",
              "          google.colab.kernel.accessAllowed ? 'block' : 'none';\n",
              "\n",
              "        async function convertToInteractive(key) {\n",
              "          const element = document.querySelector('#df-0e56c52d-366f-4941-b664-48ba2599e3fd');\n",
              "          const dataTable =\n",
              "            await google.colab.kernel.invokeFunction('convertToInteractive',\n",
              "                                                     [key], {});\n",
              "          if (!dataTable) return;\n",
              "\n",
              "          const docLinkHtml = 'Like what you see? Visit the ' +\n",
              "            '<a target=\"_blank\" href=https://colab.research.google.com/notebooks/data_table.ipynb>data table notebook</a>'\n",
              "            + ' to learn more about interactive tables.';\n",
              "          element.innerHTML = '';\n",
              "          dataTable['output_type'] = 'display_data';\n",
              "          await google.colab.output.renderOutput(dataTable, element);\n",
              "          const docLink = document.createElement('div');\n",
              "          docLink.innerHTML = docLinkHtml;\n",
              "          element.appendChild(docLink);\n",
              "        }\n",
              "      </script>\n",
              "    </div>\n",
              "  </div>\n",
              "  "
            ]
          },
          "metadata": {},
          "execution_count": 52
        }
      ]
    },
    {
      "cell_type": "markdown",
      "source": [
        "# Checking main info"
      ],
      "metadata": {
        "id": "tAQEVRMP3V0C"
      }
    },
    {
      "cell_type": "code",
      "source": [
        "data.info()"
      ],
      "metadata": {
        "colab": {
          "base_uri": "https://localhost:8080/"
        },
        "id": "a0yJpjXf3air",
        "outputId": "217c7eb9-9eaf-47fd-da41-c4ec73abc0b2"
      },
      "execution_count": 53,
      "outputs": [
        {
          "output_type": "stream",
          "name": "stdout",
          "text": [
            "<class 'pandas.core.frame.DataFrame'>\n",
            "RangeIndex: 9799 entries, 0 to 9798\n",
            "Data columns (total 70 columns):\n",
            " #   Column                  Non-Null Count  Dtype  \n",
            "---  ------                  --------------  -----  \n",
            " 0   MemberNumber            9799 non-null   int64  \n",
            " 1   UserRef                 9798 non-null   object \n",
            " 2   InternalRef2            16 non-null     float64\n",
            " 3   Country                 9788 non-null   object \n",
            " 4   MemberStatus            9799 non-null   object \n",
            " 5   DateofDeath             3 non-null      object \n",
            " 6   DOB                     9797 non-null   object \n",
            " 7   Sex                     9795 non-null   object \n",
            " 8   ContactforCorres        9799 non-null   object \n",
            " 9   SARef                   9799 non-null   object \n",
            " 10  SchemeName              9795 non-null   object \n",
            " 11  BrandName               9792 non-null   object \n",
            " 12  BrandRef                9792 non-null   object \n",
            " 13  ProposedRetireAge       9793 non-null   float64\n",
            " 14  ProposedRetireDate      9791 non-null   object \n",
            " 15  75thBirthday            9797 non-null   object \n",
            " 16  75before2262010         9799 non-null   object \n",
            " 17  AdvAppointedDate        8809 non-null   object \n",
            " 18  77thBirthday            9797 non-null   object \n",
            " 19  CommencementDate        9799 non-null   object \n",
            " 20  CommencementMonth       9799 non-null   int64  \n",
            " 21  CommencementYear        9799 non-null   int64  \n",
            " 22  NextRenewalDay          9799 non-null   int64  \n",
            " 23  NextRenewalMonth        9798 non-null   float64\n",
            " 24  NextRenewalDate         9799 non-null   object \n",
            " 25  SIPPRole                8483 non-null   object \n",
            " 26  AdviserRef              9020 non-null   object \n",
            " 27  AdviserType             8820 non-null   object \n",
            " 28  AdviserCountry          8830 non-null   object \n",
            " 29  AdviserDirectLine       40 non-null     object \n",
            " 30  AdviserCompanyName      8722 non-null   object \n",
            " 31  ClusterRef              3 non-null      float64\n",
            " 32  CoRegNo                 52 non-null     object \n",
            " 33  CSCMan                  0 non-null      float64\n",
            " 34  CSCType                 0 non-null      float64\n",
            " 35  DiscMan                 263 non-null    object \n",
            " 36  Dividends               0 non-null      float64\n",
            " 37  DSPAcType               0 non-null      float64\n",
            " 38  FundMan                 9570 non-null   object \n",
            " 39  FundPercent             1 non-null      float64\n",
            " 40  HoldingNo               9799 non-null   int64  \n",
            " 41  HoldStatus              9799 non-null   object \n",
            " 42  HoldType                9795 non-null   object \n",
            " 43  InSpecie                28 non-null     object \n",
            " 44  InsRef                  4327 non-null   object \n",
            " 45  InsuredFnd              0 non-null      float64\n",
            " 46  MemberRef               0 non-null      float64\n",
            " 47  Notes                   606 non-null    object \n",
            " 48  OwnerRef                9799 non-null   int64  \n",
            " 49  PFType                  0 non-null      float64\n",
            " 50  PlanRef                 10 non-null     float64\n",
            " 51  PriceCurr               159 non-null    float64\n",
            " 52  PSRAcqFrm               346 non-null    object \n",
            " 53  PSRAssOth               169 non-null    object \n",
            " 54  PSRAssTyp               352 non-null    float64\n",
            " 55  PurDate                 9714 non-null   object \n",
            " 56  PurValue                5337 non-null   float64\n",
            " 57  RedemDate               0 non-null      float64\n",
            " 58  RepDt                   12 non-null     object \n",
            " 59  SedolRef                4335 non-null   object \n",
            " 60  CurrentUnitsCalculated  296 non-null    float64\n",
            " 61  CurrentUnitsManual      83 non-null     float64\n",
            " 62  BookValue               9710 non-null   float64\n",
            " 63  CurrentValueCalculated  9554 non-null   float64\n",
            " 64  ValDate                 9393 non-null   object \n",
            " 65  ValLatest               9458 non-null   float64\n",
            " 66  VotingRights            0 non-null      float64\n",
            " 67  UserAssClass            4142 non-null   object \n",
            " 68  UserAssGrp              4143 non-null   object \n",
            " 69  UnRegFg                 299 non-null    object \n",
            "dtypes: float64(23), int64(6), object(41)\n",
            "memory usage: 5.2+ MB\n"
          ]
        }
      ]
    },
    {
      "cell_type": "markdown",
      "source": [
        "The dataset contains 9799 rows and 70 columns. Columns do have different datatypes and are either float, object or int.  \n",
        "There seems to be missing values at different levels."
      ],
      "metadata": {
        "id": "3KT13s2W5d-e"
      }
    },
    {
      "cell_type": "code",
      "source": [
        "data['MemberNumber'].nunique()"
      ],
      "metadata": {
        "colab": {
          "base_uri": "https://localhost:8080/"
        },
        "id": "JzfLsPwh_uiv",
        "outputId": "ca5f188b-7a20-4631-abe1-3fcbe86785fa"
      },
      "execution_count": 54,
      "outputs": [
        {
          "output_type": "execute_result",
          "data": {
            "text/plain": [
              "4689"
            ]
          },
          "metadata": {},
          "execution_count": 54
        }
      ]
    },
    {
      "cell_type": "code",
      "source": [
        "data[['MemberNumber', 'DOB']]"
      ],
      "metadata": {
        "colab": {
          "base_uri": "https://localhost:8080/",
          "height": 423
        },
        "id": "PLHat6qOAOho",
        "outputId": "162deb1d-5585-4d21-89a6-ea29e2fc3433"
      },
      "execution_count": 55,
      "outputs": [
        {
          "output_type": "execute_result",
          "data": {
            "text/plain": [
              "      MemberNumber            DOB\n",
              "0               12    6/9/52 0:00\n",
              "1               12    6/9/52 0:00\n",
              "2               19  12/12/47 0:00\n",
              "3               19  12/12/47 0:00\n",
              "4               20    2/7/48 0:00\n",
              "...            ...            ...\n",
              "9794          2765   10/9/60 0:00\n",
              "9795          7211    2/6/62 0:00\n",
              "9796          7211    2/6/62 0:00\n",
              "9797          7213   4/18/67 0:00\n",
              "9798          7213   4/18/67 0:00\n",
              "\n",
              "[9799 rows x 2 columns]"
            ],
            "text/html": [
              "\n",
              "  <div id=\"df-dcdf140f-3155-4448-b71b-26682e0aec59\">\n",
              "    <div class=\"colab-df-container\">\n",
              "      <div>\n",
              "<style scoped>\n",
              "    .dataframe tbody tr th:only-of-type {\n",
              "        vertical-align: middle;\n",
              "    }\n",
              "\n",
              "    .dataframe tbody tr th {\n",
              "        vertical-align: top;\n",
              "    }\n",
              "\n",
              "    .dataframe thead th {\n",
              "        text-align: right;\n",
              "    }\n",
              "</style>\n",
              "<table border=\"1\" class=\"dataframe\">\n",
              "  <thead>\n",
              "    <tr style=\"text-align: right;\">\n",
              "      <th></th>\n",
              "      <th>MemberNumber</th>\n",
              "      <th>DOB</th>\n",
              "    </tr>\n",
              "  </thead>\n",
              "  <tbody>\n",
              "    <tr>\n",
              "      <th>0</th>\n",
              "      <td>12</td>\n",
              "      <td>6/9/52 0:00</td>\n",
              "    </tr>\n",
              "    <tr>\n",
              "      <th>1</th>\n",
              "      <td>12</td>\n",
              "      <td>6/9/52 0:00</td>\n",
              "    </tr>\n",
              "    <tr>\n",
              "      <th>2</th>\n",
              "      <td>19</td>\n",
              "      <td>12/12/47 0:00</td>\n",
              "    </tr>\n",
              "    <tr>\n",
              "      <th>3</th>\n",
              "      <td>19</td>\n",
              "      <td>12/12/47 0:00</td>\n",
              "    </tr>\n",
              "    <tr>\n",
              "      <th>4</th>\n",
              "      <td>20</td>\n",
              "      <td>2/7/48 0:00</td>\n",
              "    </tr>\n",
              "    <tr>\n",
              "      <th>...</th>\n",
              "      <td>...</td>\n",
              "      <td>...</td>\n",
              "    </tr>\n",
              "    <tr>\n",
              "      <th>9794</th>\n",
              "      <td>2765</td>\n",
              "      <td>10/9/60 0:00</td>\n",
              "    </tr>\n",
              "    <tr>\n",
              "      <th>9795</th>\n",
              "      <td>7211</td>\n",
              "      <td>2/6/62 0:00</td>\n",
              "    </tr>\n",
              "    <tr>\n",
              "      <th>9796</th>\n",
              "      <td>7211</td>\n",
              "      <td>2/6/62 0:00</td>\n",
              "    </tr>\n",
              "    <tr>\n",
              "      <th>9797</th>\n",
              "      <td>7213</td>\n",
              "      <td>4/18/67 0:00</td>\n",
              "    </tr>\n",
              "    <tr>\n",
              "      <th>9798</th>\n",
              "      <td>7213</td>\n",
              "      <td>4/18/67 0:00</td>\n",
              "    </tr>\n",
              "  </tbody>\n",
              "</table>\n",
              "<p>9799 rows × 2 columns</p>\n",
              "</div>\n",
              "      <button class=\"colab-df-convert\" onclick=\"convertToInteractive('df-dcdf140f-3155-4448-b71b-26682e0aec59')\"\n",
              "              title=\"Convert this dataframe to an interactive table.\"\n",
              "              style=\"display:none;\">\n",
              "        \n",
              "  <svg xmlns=\"http://www.w3.org/2000/svg\" height=\"24px\"viewBox=\"0 0 24 24\"\n",
              "       width=\"24px\">\n",
              "    <path d=\"M0 0h24v24H0V0z\" fill=\"none\"/>\n",
              "    <path d=\"M18.56 5.44l.94 2.06.94-2.06 2.06-.94-2.06-.94-.94-2.06-.94 2.06-2.06.94zm-11 1L8.5 8.5l.94-2.06 2.06-.94-2.06-.94L8.5 2.5l-.94 2.06-2.06.94zm10 10l.94 2.06.94-2.06 2.06-.94-2.06-.94-.94-2.06-.94 2.06-2.06.94z\"/><path d=\"M17.41 7.96l-1.37-1.37c-.4-.4-.92-.59-1.43-.59-.52 0-1.04.2-1.43.59L10.3 9.45l-7.72 7.72c-.78.78-.78 2.05 0 2.83L4 21.41c.39.39.9.59 1.41.59.51 0 1.02-.2 1.41-.59l7.78-7.78 2.81-2.81c.8-.78.8-2.07 0-2.86zM5.41 20L4 18.59l7.72-7.72 1.47 1.35L5.41 20z\"/>\n",
              "  </svg>\n",
              "      </button>\n",
              "      \n",
              "  <style>\n",
              "    .colab-df-container {\n",
              "      display:flex;\n",
              "      flex-wrap:wrap;\n",
              "      gap: 12px;\n",
              "    }\n",
              "\n",
              "    .colab-df-convert {\n",
              "      background-color: #E8F0FE;\n",
              "      border: none;\n",
              "      border-radius: 50%;\n",
              "      cursor: pointer;\n",
              "      display: none;\n",
              "      fill: #1967D2;\n",
              "      height: 32px;\n",
              "      padding: 0 0 0 0;\n",
              "      width: 32px;\n",
              "    }\n",
              "\n",
              "    .colab-df-convert:hover {\n",
              "      background-color: #E2EBFA;\n",
              "      box-shadow: 0px 1px 2px rgba(60, 64, 67, 0.3), 0px 1px 3px 1px rgba(60, 64, 67, 0.15);\n",
              "      fill: #174EA6;\n",
              "    }\n",
              "\n",
              "    [theme=dark] .colab-df-convert {\n",
              "      background-color: #3B4455;\n",
              "      fill: #D2E3FC;\n",
              "    }\n",
              "\n",
              "    [theme=dark] .colab-df-convert:hover {\n",
              "      background-color: #434B5C;\n",
              "      box-shadow: 0px 1px 3px 1px rgba(0, 0, 0, 0.15);\n",
              "      filter: drop-shadow(0px 1px 2px rgba(0, 0, 0, 0.3));\n",
              "      fill: #FFFFFF;\n",
              "    }\n",
              "  </style>\n",
              "\n",
              "      <script>\n",
              "        const buttonEl =\n",
              "          document.querySelector('#df-dcdf140f-3155-4448-b71b-26682e0aec59 button.colab-df-convert');\n",
              "        buttonEl.style.display =\n",
              "          google.colab.kernel.accessAllowed ? 'block' : 'none';\n",
              "\n",
              "        async function convertToInteractive(key) {\n",
              "          const element = document.querySelector('#df-dcdf140f-3155-4448-b71b-26682e0aec59');\n",
              "          const dataTable =\n",
              "            await google.colab.kernel.invokeFunction('convertToInteractive',\n",
              "                                                     [key], {});\n",
              "          if (!dataTable) return;\n",
              "\n",
              "          const docLinkHtml = 'Like what you see? Visit the ' +\n",
              "            '<a target=\"_blank\" href=https://colab.research.google.com/notebooks/data_table.ipynb>data table notebook</a>'\n",
              "            + ' to learn more about interactive tables.';\n",
              "          element.innerHTML = '';\n",
              "          dataTable['output_type'] = 'display_data';\n",
              "          await google.colab.output.renderOutput(dataTable, element);\n",
              "          const docLink = document.createElement('div');\n",
              "          docLink.innerHTML = docLinkHtml;\n",
              "          element.appendChild(docLink);\n",
              "        }\n",
              "      </script>\n",
              "    </div>\n",
              "  </div>\n",
              "  "
            ]
          },
          "metadata": {},
          "execution_count": 55
        }
      ]
    },
    {
      "cell_type": "markdown",
      "source": [
        "MemberNumber is not unique, meaning for customer focused analysis date must be grouped per MemberNumber"
      ],
      "metadata": {
        "id": "sQ-gpvL4_7Go"
      }
    },
    {
      "cell_type": "markdown",
      "source": [
        "# Redundant columns"
      ],
      "metadata": {
        "id": "LvEE0WKpWS2i"
      }
    },
    {
      "cell_type": "markdown",
      "source": [
        "Some information seem redundant"
      ],
      "metadata": {
        "id": "IJxhec44UXLC"
      }
    },
    {
      "cell_type": "code",
      "source": [
        "data[['NextRenewalDate', 'NextRenewalMonth', 'NextRenewalDay']]"
      ],
      "metadata": {
        "colab": {
          "base_uri": "https://localhost:8080/",
          "height": 423
        },
        "id": "owJ0nWuvUWcQ",
        "outputId": "783a82ef-dd84-4213-d110-8fdc4c87a14a"
      },
      "execution_count": 56,
      "outputs": [
        {
          "output_type": "execute_result",
          "data": {
            "text/plain": [
              "     NextRenewalDate  NextRenewalMonth  NextRenewalDay\n",
              "0        4/2/24 0:00              4.00               2\n",
              "1        4/2/24 0:00              4.00               2\n",
              "2        4/1/24 0:00              4.00               1\n",
              "3        4/1/24 0:00              4.00               1\n",
              "4        4/1/24 0:00              4.00               1\n",
              "...              ...               ...             ...\n",
              "9794    6/29/23 0:00              6.00              29\n",
              "9795   10/12/22 0:00             10.00              12\n",
              "9796   10/12/22 0:00             10.00              12\n",
              "9797   10/12/22 0:00             10.00              12\n",
              "9798   10/12/22 0:00             10.00              12\n",
              "\n",
              "[9799 rows x 3 columns]"
            ],
            "text/html": [
              "\n",
              "  <div id=\"df-e30e0f84-6f20-4090-b8c7-d1aa16945897\">\n",
              "    <div class=\"colab-df-container\">\n",
              "      <div>\n",
              "<style scoped>\n",
              "    .dataframe tbody tr th:only-of-type {\n",
              "        vertical-align: middle;\n",
              "    }\n",
              "\n",
              "    .dataframe tbody tr th {\n",
              "        vertical-align: top;\n",
              "    }\n",
              "\n",
              "    .dataframe thead th {\n",
              "        text-align: right;\n",
              "    }\n",
              "</style>\n",
              "<table border=\"1\" class=\"dataframe\">\n",
              "  <thead>\n",
              "    <tr style=\"text-align: right;\">\n",
              "      <th></th>\n",
              "      <th>NextRenewalDate</th>\n",
              "      <th>NextRenewalMonth</th>\n",
              "      <th>NextRenewalDay</th>\n",
              "    </tr>\n",
              "  </thead>\n",
              "  <tbody>\n",
              "    <tr>\n",
              "      <th>0</th>\n",
              "      <td>4/2/24 0:00</td>\n",
              "      <td>4.00</td>\n",
              "      <td>2</td>\n",
              "    </tr>\n",
              "    <tr>\n",
              "      <th>1</th>\n",
              "      <td>4/2/24 0:00</td>\n",
              "      <td>4.00</td>\n",
              "      <td>2</td>\n",
              "    </tr>\n",
              "    <tr>\n",
              "      <th>2</th>\n",
              "      <td>4/1/24 0:00</td>\n",
              "      <td>4.00</td>\n",
              "      <td>1</td>\n",
              "    </tr>\n",
              "    <tr>\n",
              "      <th>3</th>\n",
              "      <td>4/1/24 0:00</td>\n",
              "      <td>4.00</td>\n",
              "      <td>1</td>\n",
              "    </tr>\n",
              "    <tr>\n",
              "      <th>4</th>\n",
              "      <td>4/1/24 0:00</td>\n",
              "      <td>4.00</td>\n",
              "      <td>1</td>\n",
              "    </tr>\n",
              "    <tr>\n",
              "      <th>...</th>\n",
              "      <td>...</td>\n",
              "      <td>...</td>\n",
              "      <td>...</td>\n",
              "    </tr>\n",
              "    <tr>\n",
              "      <th>9794</th>\n",
              "      <td>6/29/23 0:00</td>\n",
              "      <td>6.00</td>\n",
              "      <td>29</td>\n",
              "    </tr>\n",
              "    <tr>\n",
              "      <th>9795</th>\n",
              "      <td>10/12/22 0:00</td>\n",
              "      <td>10.00</td>\n",
              "      <td>12</td>\n",
              "    </tr>\n",
              "    <tr>\n",
              "      <th>9796</th>\n",
              "      <td>10/12/22 0:00</td>\n",
              "      <td>10.00</td>\n",
              "      <td>12</td>\n",
              "    </tr>\n",
              "    <tr>\n",
              "      <th>9797</th>\n",
              "      <td>10/12/22 0:00</td>\n",
              "      <td>10.00</td>\n",
              "      <td>12</td>\n",
              "    </tr>\n",
              "    <tr>\n",
              "      <th>9798</th>\n",
              "      <td>10/12/22 0:00</td>\n",
              "      <td>10.00</td>\n",
              "      <td>12</td>\n",
              "    </tr>\n",
              "  </tbody>\n",
              "</table>\n",
              "<p>9799 rows × 3 columns</p>\n",
              "</div>\n",
              "      <button class=\"colab-df-convert\" onclick=\"convertToInteractive('df-e30e0f84-6f20-4090-b8c7-d1aa16945897')\"\n",
              "              title=\"Convert this dataframe to an interactive table.\"\n",
              "              style=\"display:none;\">\n",
              "        \n",
              "  <svg xmlns=\"http://www.w3.org/2000/svg\" height=\"24px\"viewBox=\"0 0 24 24\"\n",
              "       width=\"24px\">\n",
              "    <path d=\"M0 0h24v24H0V0z\" fill=\"none\"/>\n",
              "    <path d=\"M18.56 5.44l.94 2.06.94-2.06 2.06-.94-2.06-.94-.94-2.06-.94 2.06-2.06.94zm-11 1L8.5 8.5l.94-2.06 2.06-.94-2.06-.94L8.5 2.5l-.94 2.06-2.06.94zm10 10l.94 2.06.94-2.06 2.06-.94-2.06-.94-.94-2.06-.94 2.06-2.06.94z\"/><path d=\"M17.41 7.96l-1.37-1.37c-.4-.4-.92-.59-1.43-.59-.52 0-1.04.2-1.43.59L10.3 9.45l-7.72 7.72c-.78.78-.78 2.05 0 2.83L4 21.41c.39.39.9.59 1.41.59.51 0 1.02-.2 1.41-.59l7.78-7.78 2.81-2.81c.8-.78.8-2.07 0-2.86zM5.41 20L4 18.59l7.72-7.72 1.47 1.35L5.41 20z\"/>\n",
              "  </svg>\n",
              "      </button>\n",
              "      \n",
              "  <style>\n",
              "    .colab-df-container {\n",
              "      display:flex;\n",
              "      flex-wrap:wrap;\n",
              "      gap: 12px;\n",
              "    }\n",
              "\n",
              "    .colab-df-convert {\n",
              "      background-color: #E8F0FE;\n",
              "      border: none;\n",
              "      border-radius: 50%;\n",
              "      cursor: pointer;\n",
              "      display: none;\n",
              "      fill: #1967D2;\n",
              "      height: 32px;\n",
              "      padding: 0 0 0 0;\n",
              "      width: 32px;\n",
              "    }\n",
              "\n",
              "    .colab-df-convert:hover {\n",
              "      background-color: #E2EBFA;\n",
              "      box-shadow: 0px 1px 2px rgba(60, 64, 67, 0.3), 0px 1px 3px 1px rgba(60, 64, 67, 0.15);\n",
              "      fill: #174EA6;\n",
              "    }\n",
              "\n",
              "    [theme=dark] .colab-df-convert {\n",
              "      background-color: #3B4455;\n",
              "      fill: #D2E3FC;\n",
              "    }\n",
              "\n",
              "    [theme=dark] .colab-df-convert:hover {\n",
              "      background-color: #434B5C;\n",
              "      box-shadow: 0px 1px 3px 1px rgba(0, 0, 0, 0.15);\n",
              "      filter: drop-shadow(0px 1px 2px rgba(0, 0, 0, 0.3));\n",
              "      fill: #FFFFFF;\n",
              "    }\n",
              "  </style>\n",
              "\n",
              "      <script>\n",
              "        const buttonEl =\n",
              "          document.querySelector('#df-e30e0f84-6f20-4090-b8c7-d1aa16945897 button.colab-df-convert');\n",
              "        buttonEl.style.display =\n",
              "          google.colab.kernel.accessAllowed ? 'block' : 'none';\n",
              "\n",
              "        async function convertToInteractive(key) {\n",
              "          const element = document.querySelector('#df-e30e0f84-6f20-4090-b8c7-d1aa16945897');\n",
              "          const dataTable =\n",
              "            await google.colab.kernel.invokeFunction('convertToInteractive',\n",
              "                                                     [key], {});\n",
              "          if (!dataTable) return;\n",
              "\n",
              "          const docLinkHtml = 'Like what you see? Visit the ' +\n",
              "            '<a target=\"_blank\" href=https://colab.research.google.com/notebooks/data_table.ipynb>data table notebook</a>'\n",
              "            + ' to learn more about interactive tables.';\n",
              "          element.innerHTML = '';\n",
              "          dataTable['output_type'] = 'display_data';\n",
              "          await google.colab.output.renderOutput(dataTable, element);\n",
              "          const docLink = document.createElement('div');\n",
              "          docLink.innerHTML = docLinkHtml;\n",
              "          element.appendChild(docLink);\n",
              "        }\n",
              "      </script>\n",
              "    </div>\n",
              "  </div>\n",
              "  "
            ]
          },
          "metadata": {},
          "execution_count": 56
        }
      ]
    },
    {
      "cell_type": "code",
      "source": [
        "data[['CommencementDate', 'CommencementMonth', 'CommencementYear']]"
      ],
      "metadata": {
        "colab": {
          "base_uri": "https://localhost:8080/",
          "height": 423
        },
        "id": "vgsy7T5dVZn6",
        "outputId": "7f3366f9-e522-487f-ba51-87a3a97a2383"
      },
      "execution_count": 57,
      "outputs": [
        {
          "output_type": "execute_result",
          "data": {
            "text/plain": [
              "     CommencementDate  CommencementMonth  CommencementYear\n",
              "0        4/22/04 0:00                  4              2004\n",
              "1        4/22/04 0:00                  4              2004\n",
              "2        5/26/04 0:00                  5              2004\n",
              "3        5/26/04 0:00                  5              2004\n",
              "4        5/26/04 0:00                  5              2004\n",
              "...               ...                ...               ...\n",
              "9794     6/29/17 0:00                  6              2017\n",
              "9795    10/12/22 0:00                 10              2022\n",
              "9796    10/12/22 0:00                 10              2022\n",
              "9797    10/12/22 0:00                 10              2022\n",
              "9798    10/12/22 0:00                 10              2022\n",
              "\n",
              "[9799 rows x 3 columns]"
            ],
            "text/html": [
              "\n",
              "  <div id=\"df-f652320d-a1ff-4d39-801b-90057397d9b1\">\n",
              "    <div class=\"colab-df-container\">\n",
              "      <div>\n",
              "<style scoped>\n",
              "    .dataframe tbody tr th:only-of-type {\n",
              "        vertical-align: middle;\n",
              "    }\n",
              "\n",
              "    .dataframe tbody tr th {\n",
              "        vertical-align: top;\n",
              "    }\n",
              "\n",
              "    .dataframe thead th {\n",
              "        text-align: right;\n",
              "    }\n",
              "</style>\n",
              "<table border=\"1\" class=\"dataframe\">\n",
              "  <thead>\n",
              "    <tr style=\"text-align: right;\">\n",
              "      <th></th>\n",
              "      <th>CommencementDate</th>\n",
              "      <th>CommencementMonth</th>\n",
              "      <th>CommencementYear</th>\n",
              "    </tr>\n",
              "  </thead>\n",
              "  <tbody>\n",
              "    <tr>\n",
              "      <th>0</th>\n",
              "      <td>4/22/04 0:00</td>\n",
              "      <td>4</td>\n",
              "      <td>2004</td>\n",
              "    </tr>\n",
              "    <tr>\n",
              "      <th>1</th>\n",
              "      <td>4/22/04 0:00</td>\n",
              "      <td>4</td>\n",
              "      <td>2004</td>\n",
              "    </tr>\n",
              "    <tr>\n",
              "      <th>2</th>\n",
              "      <td>5/26/04 0:00</td>\n",
              "      <td>5</td>\n",
              "      <td>2004</td>\n",
              "    </tr>\n",
              "    <tr>\n",
              "      <th>3</th>\n",
              "      <td>5/26/04 0:00</td>\n",
              "      <td>5</td>\n",
              "      <td>2004</td>\n",
              "    </tr>\n",
              "    <tr>\n",
              "      <th>4</th>\n",
              "      <td>5/26/04 0:00</td>\n",
              "      <td>5</td>\n",
              "      <td>2004</td>\n",
              "    </tr>\n",
              "    <tr>\n",
              "      <th>...</th>\n",
              "      <td>...</td>\n",
              "      <td>...</td>\n",
              "      <td>...</td>\n",
              "    </tr>\n",
              "    <tr>\n",
              "      <th>9794</th>\n",
              "      <td>6/29/17 0:00</td>\n",
              "      <td>6</td>\n",
              "      <td>2017</td>\n",
              "    </tr>\n",
              "    <tr>\n",
              "      <th>9795</th>\n",
              "      <td>10/12/22 0:00</td>\n",
              "      <td>10</td>\n",
              "      <td>2022</td>\n",
              "    </tr>\n",
              "    <tr>\n",
              "      <th>9796</th>\n",
              "      <td>10/12/22 0:00</td>\n",
              "      <td>10</td>\n",
              "      <td>2022</td>\n",
              "    </tr>\n",
              "    <tr>\n",
              "      <th>9797</th>\n",
              "      <td>10/12/22 0:00</td>\n",
              "      <td>10</td>\n",
              "      <td>2022</td>\n",
              "    </tr>\n",
              "    <tr>\n",
              "      <th>9798</th>\n",
              "      <td>10/12/22 0:00</td>\n",
              "      <td>10</td>\n",
              "      <td>2022</td>\n",
              "    </tr>\n",
              "  </tbody>\n",
              "</table>\n",
              "<p>9799 rows × 3 columns</p>\n",
              "</div>\n",
              "      <button class=\"colab-df-convert\" onclick=\"convertToInteractive('df-f652320d-a1ff-4d39-801b-90057397d9b1')\"\n",
              "              title=\"Convert this dataframe to an interactive table.\"\n",
              "              style=\"display:none;\">\n",
              "        \n",
              "  <svg xmlns=\"http://www.w3.org/2000/svg\" height=\"24px\"viewBox=\"0 0 24 24\"\n",
              "       width=\"24px\">\n",
              "    <path d=\"M0 0h24v24H0V0z\" fill=\"none\"/>\n",
              "    <path d=\"M18.56 5.44l.94 2.06.94-2.06 2.06-.94-2.06-.94-.94-2.06-.94 2.06-2.06.94zm-11 1L8.5 8.5l.94-2.06 2.06-.94-2.06-.94L8.5 2.5l-.94 2.06-2.06.94zm10 10l.94 2.06.94-2.06 2.06-.94-2.06-.94-.94-2.06-.94 2.06-2.06.94z\"/><path d=\"M17.41 7.96l-1.37-1.37c-.4-.4-.92-.59-1.43-.59-.52 0-1.04.2-1.43.59L10.3 9.45l-7.72 7.72c-.78.78-.78 2.05 0 2.83L4 21.41c.39.39.9.59 1.41.59.51 0 1.02-.2 1.41-.59l7.78-7.78 2.81-2.81c.8-.78.8-2.07 0-2.86zM5.41 20L4 18.59l7.72-7.72 1.47 1.35L5.41 20z\"/>\n",
              "  </svg>\n",
              "      </button>\n",
              "      \n",
              "  <style>\n",
              "    .colab-df-container {\n",
              "      display:flex;\n",
              "      flex-wrap:wrap;\n",
              "      gap: 12px;\n",
              "    }\n",
              "\n",
              "    .colab-df-convert {\n",
              "      background-color: #E8F0FE;\n",
              "      border: none;\n",
              "      border-radius: 50%;\n",
              "      cursor: pointer;\n",
              "      display: none;\n",
              "      fill: #1967D2;\n",
              "      height: 32px;\n",
              "      padding: 0 0 0 0;\n",
              "      width: 32px;\n",
              "    }\n",
              "\n",
              "    .colab-df-convert:hover {\n",
              "      background-color: #E2EBFA;\n",
              "      box-shadow: 0px 1px 2px rgba(60, 64, 67, 0.3), 0px 1px 3px 1px rgba(60, 64, 67, 0.15);\n",
              "      fill: #174EA6;\n",
              "    }\n",
              "\n",
              "    [theme=dark] .colab-df-convert {\n",
              "      background-color: #3B4455;\n",
              "      fill: #D2E3FC;\n",
              "    }\n",
              "\n",
              "    [theme=dark] .colab-df-convert:hover {\n",
              "      background-color: #434B5C;\n",
              "      box-shadow: 0px 1px 3px 1px rgba(0, 0, 0, 0.15);\n",
              "      filter: drop-shadow(0px 1px 2px rgba(0, 0, 0, 0.3));\n",
              "      fill: #FFFFFF;\n",
              "    }\n",
              "  </style>\n",
              "\n",
              "      <script>\n",
              "        const buttonEl =\n",
              "          document.querySelector('#df-f652320d-a1ff-4d39-801b-90057397d9b1 button.colab-df-convert');\n",
              "        buttonEl.style.display =\n",
              "          google.colab.kernel.accessAllowed ? 'block' : 'none';\n",
              "\n",
              "        async function convertToInteractive(key) {\n",
              "          const element = document.querySelector('#df-f652320d-a1ff-4d39-801b-90057397d9b1');\n",
              "          const dataTable =\n",
              "            await google.colab.kernel.invokeFunction('convertToInteractive',\n",
              "                                                     [key], {});\n",
              "          if (!dataTable) return;\n",
              "\n",
              "          const docLinkHtml = 'Like what you see? Visit the ' +\n",
              "            '<a target=\"_blank\" href=https://colab.research.google.com/notebooks/data_table.ipynb>data table notebook</a>'\n",
              "            + ' to learn more about interactive tables.';\n",
              "          element.innerHTML = '';\n",
              "          dataTable['output_type'] = 'display_data';\n",
              "          await google.colab.output.renderOutput(dataTable, element);\n",
              "          const docLink = document.createElement('div');\n",
              "          docLink.innerHTML = docLinkHtml;\n",
              "          element.appendChild(docLink);\n",
              "        }\n",
              "      </script>\n",
              "    </div>\n",
              "  </div>\n",
              "  "
            ]
          },
          "metadata": {},
          "execution_count": 57
        }
      ]
    },
    {
      "cell_type": "markdown",
      "source": [
        "We can drop the columns: 'CommencementMonth', 'CommencementYear', 'NextRenewalMonth', 'NextRenewalDay'"
      ],
      "metadata": {
        "id": "ZAt966SCU2NF"
      }
    },
    {
      "cell_type": "code",
      "source": [
        "#drop columns\n",
        "data.drop(['CommencementMonth', 'CommencementYear', 'NextRenewalMonth', 'NextRenewalDay'], axis=1, inplace=True)"
      ],
      "metadata": {
        "id": "CDdKCK80UWXU"
      },
      "execution_count": 58,
      "outputs": []
    },
    {
      "cell_type": "markdown",
      "source": [
        "Birthday information can be inferred "
      ],
      "metadata": {
        "id": "RcmhW4kmWWsb"
      }
    },
    {
      "cell_type": "code",
      "source": [
        "data[['75thBirthday', '75before2262010', '77thBirthday', 'DOB'] ].isnull().sum()"
      ],
      "metadata": {
        "colab": {
          "base_uri": "https://localhost:8080/"
        },
        "id": "QZuULrRFUWTd",
        "outputId": "63507d38-a801-4c9d-ab7a-6ae1622a0e96"
      },
      "execution_count": 59,
      "outputs": [
        {
          "output_type": "execute_result",
          "data": {
            "text/plain": [
              "75thBirthday       2\n",
              "75before2262010    0\n",
              "77thBirthday       2\n",
              "DOB                2\n",
              "dtype: int64"
            ]
          },
          "metadata": {},
          "execution_count": 59
        }
      ]
    },
    {
      "cell_type": "code",
      "source": [
        "data.loc[(data['75thBirthday'].isnull()) & (data['77thBirthday'].isnull()) & (data['DOB'].isnull()) , '75before2262010']"
      ],
      "metadata": {
        "colab": {
          "base_uri": "https://localhost:8080/"
        },
        "id": "StPdjTLYT_ob",
        "outputId": "9f8c392e-ad9f-4c1d-f2fa-b46fbcd0c2de"
      },
      "execution_count": 60,
      "outputs": [
        {
          "output_type": "execute_result",
          "data": {
            "text/plain": [
              "423    N\n",
              "424    N\n",
              "Name: 75before2262010, dtype: object"
            ]
          },
          "metadata": {},
          "execution_count": 60
        }
      ]
    },
    {
      "cell_type": "markdown",
      "source": [
        "Since NAN values are the same, there is no additional information in keeping the birthday columns."
      ],
      "metadata": {
        "id": "9ShCK3WpYiJ3"
      }
    },
    {
      "cell_type": "code",
      "source": [
        "#drop columns\n",
        "data.drop(['75thBirthday', '77thBirthday', '75before2262010'], axis=1, inplace=True)"
      ],
      "metadata": {
        "id": "aats9jqEWkqd"
      },
      "execution_count": 61,
      "outputs": []
    },
    {
      "cell_type": "markdown",
      "source": [
        "# Checking missing values"
      ],
      "metadata": {
        "id": "wzeEVDNw6JYQ"
      }
    },
    {
      "cell_type": "code",
      "source": [
        "#create a dataframes with percentages of missing values\n",
        "missing = pd.DataFrame(columns = ['% Missing values'],data = 100*round(data.isnull().sum().sort_values(ascending = False)/len(data),2))\n",
        "missing_nz = missing[missing['% Missing values']>0.0].reset_index().rename(columns={'index': 'variables'})\n",
        "\n",
        "\n",
        "#Plot missing values\n",
        "#plt.style.use('ggplot')\n",
        "fig, ax = plt.subplots(1,1, figsize=(30,10))\n",
        "\n",
        "ax.set_title('NA values in dataset')\n",
        "sns.barplot(data=missing_nz,x=missing_nz.variables,y=missing_nz['% Missing values'], orient = 'v', ax = ax)\n",
        "ax.set_xticklabels(ax.get_xticklabels(), rotation=45, horizontalalignment='right')\n",
        "plt.show()"
      ],
      "metadata": {
        "colab": {
          "base_uri": "https://localhost:8080/",
          "height": 578
        },
        "id": "EvfYR0di3ePj",
        "outputId": "692408b1-61b9-426e-8ba1-43fd523924ab"
      },
      "execution_count": 62,
      "outputs": [
        {
          "output_type": "display_data",
          "data": {
            "text/plain": [
              "<Figure size 2160x720 with 1 Axes>"
            ],
            "image/png": "[encoded data removed]"
          },
          "metadata": {
            "needs_background": "light"
          }
        }
      ]
    },
    {
      "cell_type": "code",
      "source": [
        "print(missing[missing['% Missing values']>90].count())\n",
        "print(missing[(missing['% Missing values']>40) & (missing['% Missing values']<=60)].count())\n",
        "print(missing[missing['% Missing values']<=20].count())"
      ],
      "metadata": {
        "colab": {
          "base_uri": "https://localhost:8080/"
        },
        "id": "UulwIN_i8Gmd",
        "outputId": "8bcad6d1-dbb5-43f5-b692-f16ca89a54c9"
      },
      "execution_count": 63,
      "outputs": [
        {
          "output_type": "stream",
          "name": "stdout",
          "text": [
            "% Missing values    27\n",
            "dtype: int64\n",
            "% Missing values    5\n",
            "dtype: int64\n",
            "% Missing values    31\n",
            "dtype: int64\n"
          ]
        }
      ]
    },
    {
      "cell_type": "markdown",
      "source": [
        "Missing values can be classified as follows  \n",
        "* 27 variables do have a high portion of missing values (close to 100%) --> these variables will be dropped \n",
        "* 5 variables have a portion of missing values between 40% and 60% \n",
        "* 31 variebles have less than 20% missing values"
      ],
      "metadata": {
        "id": "4z0oxCqw-ZI9"
      }
    },
    {
      "cell_type": "code",
      "source": [
        "# dropping variables with very high No of missing values\n",
        "remove = list(missing[missing['% Missing values']>90].index)\n",
        "data.drop(remove, inplace =True, axis =1)"
      ],
      "metadata": {
        "id": "P4NTckOl-Kqr"
      },
      "execution_count": 64,
      "outputs": []
    },
    {
      "cell_type": "markdown",
      "source": [
        "# Check duplicated rows"
      ],
      "metadata": {
        "id": "faXpWqCebTqX"
      }
    },
    {
      "cell_type": "code",
      "source": [
        "data.duplicated().sum()"
      ],
      "metadata": {
        "colab": {
          "base_uri": "https://localhost:8080/"
        },
        "id": "CHCykjhFPmqh",
        "outputId": "192e900c-dd59-443f-953c-56e2ca96a768"
      },
      "execution_count": 65,
      "outputs": [
        {
          "output_type": "execute_result",
          "data": {
            "text/plain": [
              "0"
            ]
          },
          "metadata": {},
          "execution_count": 65
        }
      ]
    },
    {
      "cell_type": "markdown",
      "source": [
        "No duplicate rows"
      ],
      "metadata": {
        "id": "du9utOXsbeBy"
      }
    },
    {
      "cell_type": "markdown",
      "source": [
        "# Analysing customer variables"
      ],
      "metadata": {
        "id": "r5tA2RVjqBwa"
      }
    },
    {
      "cell_type": "markdown",
      "source": [
        "Age at commencement"
      ],
      "metadata": {
        "id": "BLFx4w3NqbLu"
      }
    },
    {
      "cell_type": "code",
      "source": [
        "data['DOB'].isnull().sum()"
      ],
      "metadata": {
        "colab": {
          "base_uri": "https://localhost:8080/"
        },
        "id": "Min91fyBqXxW",
        "outputId": "925dfbcf-7e41-4acb-cf89-9060328558dc"
      },
      "execution_count": 66,
      "outputs": [
        {
          "output_type": "execute_result",
          "data": {
            "text/plain": [
              "2"
            ]
          },
          "metadata": {},
          "execution_count": 66
        }
      ]
    },
    {
      "cell_type": "code",
      "source": [
        "#creating dataframe with unique members\n",
        "df_commencement = data[['MemberNumber', 'DOB', 'CommencementDate']].copy()\n",
        "df_commencement.duplicated\n"
      ],
      "metadata": {
        "colab": {
          "base_uri": "https://localhost:8080/"
        },
        "id": "h2qG1iTRA8C8",
        "outputId": "cf7dd65f-2c54-43c5-93d3-25f07e2ad4a9"
      },
      "execution_count": 67,
      "outputs": [
        {
          "output_type": "execute_result",
          "data": {
            "text/plain": [
              "<bound method DataFrame.duplicated of       MemberNumber            DOB CommencementDate\n",
              "0               12    6/9/52 0:00     4/22/04 0:00\n",
              "1               12    6/9/52 0:00     4/22/04 0:00\n",
              "2               19  12/12/47 0:00     5/26/04 0:00\n",
              "3               19  12/12/47 0:00     5/26/04 0:00\n",
              "4               20    2/7/48 0:00     5/26/04 0:00\n",
              "...            ...            ...              ...\n",
              "9794          2765   10/9/60 0:00     6/29/17 0:00\n",
              "9795          7211    2/6/62 0:00    10/12/22 0:00\n",
              "9796          7211    2/6/62 0:00    10/12/22 0:00\n",
              "9797          7213   4/18/67 0:00    10/12/22 0:00\n",
              "9798          7213   4/18/67 0:00    10/12/22 0:00\n",
              "\n",
              "[9799 rows x 3 columns]>"
            ]
          },
          "metadata": {},
          "execution_count": 67
        }
      ]
    },
    {
      "cell_type": "code",
      "source": [
        "# removing duplicates\n",
        "\n",
        "df_commencement = df_commencement.drop_duplicates()"
      ],
      "metadata": {
        "id": "OhtG0PmeCRv8"
      },
      "execution_count": 68,
      "outputs": []
    },
    {
      "cell_type": "code",
      "source": [
        "# formating DOB column\n",
        "df_commencement['DOB'] = pd.to_datetime(data['DOB'])\n",
        "df_commencement.loc[df_commencement['DOB'].dt.year >= 2020, 'DOB'] -= pd.DateOffset(years=100)"
      ],
      "metadata": {
        "id": "iUuz2AMqx1_0",
        "colab": {
          "base_uri": "https://localhost:8080/"
        },
        "outputId": "b02a9505-fe11-45cc-8775-4912246efe63"
      },
      "execution_count": 69,
      "outputs": [
        {
          "output_type": "stream",
          "name": "stderr",
          "text": [
            "<ipython-input-69-72cecca7a462>:2: SettingWithCopyWarning: \n",
            "A value is trying to be set on a copy of a slice from a DataFrame.\n",
            "Try using .loc[row_indexer,col_indexer] = value instead\n",
            "\n",
            "See the caveats in the documentation: https://pandas.pydata.org/pandas-docs/stable/user_guide/indexing.html#returning-a-view-versus-a-copy\n",
            "  df_commencement['DOB'] = pd.to_datetime(data['DOB'])\n",
            "/usr/local/lib/python3.9/dist-packages/pandas/core/indexing.py:1773: SettingWithCopyWarning: \n",
            "A value is trying to be set on a copy of a slice from a DataFrame.\n",
            "Try using .loc[row_indexer,col_indexer] = value instead\n",
            "\n",
            "See the caveats in the documentation: https://pandas.pydata.org/pandas-docs/stable/user_guide/indexing.html#returning-a-view-versus-a-copy\n",
            "  self._setitem_single_column(ilocs[0], value, pi)\n"
          ]
        }
      ]
    },
    {
      "cell_type": "code",
      "source": [
        "# calculate Age at commencement by CommencementDate - DOB (date of birth)\n",
        "\n",
        "df_commencement['CommencementDate'] = pd.to_datetime(df_commencement['CommencementDate'])\n",
        "\n",
        "df_commencement['Age at commencement'] = (df_commencement['CommencementDate'] - df_commencement['DOB']).dt.days / 365.25"
      ],
      "metadata": {
        "id": "litDbNFvqz9h",
        "colab": {
          "base_uri": "https://localhost:8080/"
        },
        "outputId": "283bbf78-1783-471d-f3c4-8520c2c014cc"
      },
      "execution_count": 70,
      "outputs": [
        {
          "output_type": "stream",
          "name": "stderr",
          "text": [
            "<ipython-input-70-2d6b4b250c88>:3: SettingWithCopyWarning: \n",
            "A value is trying to be set on a copy of a slice from a DataFrame.\n",
            "Try using .loc[row_indexer,col_indexer] = value instead\n",
            "\n",
            "See the caveats in the documentation: https://pandas.pydata.org/pandas-docs/stable/user_guide/indexing.html#returning-a-view-versus-a-copy\n",
            "  df_commencement['CommencementDate'] = pd.to_datetime(df_commencement['CommencementDate'])\n",
            "<ipython-input-70-2d6b4b250c88>:5: SettingWithCopyWarning: \n",
            "A value is trying to be set on a copy of a slice from a DataFrame.\n",
            "Try using .loc[row_indexer,col_indexer] = value instead\n",
            "\n",
            "See the caveats in the documentation: https://pandas.pydata.org/pandas-docs/stable/user_guide/indexing.html#returning-a-view-versus-a-copy\n",
            "  df_commencement['Age at commencement'] = (df_commencement['CommencementDate'] - df_commencement['DOB']).dt.days / 365.25\n"
          ]
        }
      ]
    },
    {
      "cell_type": "code",
      "source": [
        "df_commencement.info()"
      ],
      "metadata": {
        "colab": {
          "base_uri": "https://localhost:8080/"
        },
        "id": "WUmsHbD3GMJw",
        "outputId": "3e4eb436-0739-44ed-d492-0bd280806bf3"
      },
      "execution_count": 71,
      "outputs": [
        {
          "output_type": "stream",
          "name": "stdout",
          "text": [
            "<class 'pandas.core.frame.DataFrame'>\n",
            "Int64Index: 4689 entries, 0 to 9797\n",
            "Data columns (total 4 columns):\n",
            " #   Column               Non-Null Count  Dtype         \n",
            "---  ------               --------------  -----         \n",
            " 0   MemberNumber         4689 non-null   int64         \n",
            " 1   DOB                  4687 non-null   datetime64[ns]\n",
            " 2   CommencementDate     4689 non-null   datetime64[ns]\n",
            " 3   Age at commencement  4687 non-null   float64       \n",
            "dtypes: datetime64[ns](2), float64(1), int64(1)\n",
            "memory usage: 183.2 KB\n"
          ]
        }
      ]
    },
    {
      "cell_type": "code",
      "source": [
        "df_commencement['Age at commencement'].mean()"
      ],
      "metadata": {
        "colab": {
          "base_uri": "https://localhost:8080/"
        },
        "id": "7Giymyx8133r",
        "outputId": "74590194-948b-4261-ae86-a301c3270258"
      },
      "execution_count": 72,
      "outputs": [
        {
          "output_type": "execute_result",
          "data": {
            "text/plain": [
              "52.39262661209073"
            ]
          },
          "metadata": {},
          "execution_count": 72
        }
      ]
    },
    {
      "cell_type": "code",
      "source": [
        "# Plot the data\n",
        "fig, axes = plt.subplots(1, 1, figsize = (20, 6))\n",
        "fig.suptitle('Histogram for Age at commencement')\n",
        "sns.histplot(x = 'Age at commencement', data = df_commencement, kde = True, ax = axes)\n",
        "plt.axvline(x=df_commencement['Age at commencement'].mean(), linestyle=\"--\", label = 'Mean', ymax = 0.9,\n",
        "            color='red')\n",
        "plt.text(50,550,'Mean Age')\n",
        "plt.show()\n"
      ],
      "metadata": {
        "colab": {
          "base_uri": "https://localhost:8080/",
          "height": 543
        },
        "id": "RD1MPzvBy8id",
        "outputId": "c6c5bce4-7d8c-4370-c213-3a41f67c7cad"
      },
      "execution_count": 73,
      "outputs": [
        {
          "output_type": "display_data",
          "data": {
            "text/plain": [
              "<Figure size 1440x432 with 1 Axes>"
            ],
            "image/png": "[encoded data removed]"
          },
          "metadata": {
            "needs_background": "light"
          }
        }
      ]
    },
    {
      "cell_type": "markdown",
      "source": [
        "The average age of commencement is at 52 years. The distribution is slightly left-skewed."
      ],
      "metadata": {
        "id": "JHA-sq8c15yH"
      }
    },
    {
      "cell_type": "code",
      "source": [
        "sns.boxplot(x=df_commencement['Age at commencement'] )"
      ],
      "metadata": {
        "colab": {
          "base_uri": "https://localhost:8080/",
          "height": 296
        },
        "id": "tGEwiCXay8fI",
        "outputId": "aa285a84-370e-4e86-c2e1-ae1f253c0b28"
      },
      "execution_count": 74,
      "outputs": [
        {
          "output_type": "execute_result",
          "data": {
            "text/plain": [
              "<AxesSubplot:xlabel='Age at commencement'>"
            ]
          },
          "metadata": {},
          "execution_count": 74
        },
        {
          "output_type": "display_data",
          "data": {
            "text/plain": [
              "<Figure size 432x288 with 1 Axes>"
            ],
            "image/png": "[encoded data removed]"
          },
          "metadata": {
            "needs_background": "light"
          }
        }
      ]
    },
    {
      "cell_type": "code",
      "source": [
        "df_commencement['Age at commencement'].describe().T"
      ],
      "metadata": {
        "colab": {
          "base_uri": "https://localhost:8080/"
        },
        "id": "ZAbzpAxWy8be",
        "outputId": "91e03c54-1558-4d3b-b5e4-c203a70b1e24"
      },
      "execution_count": 75,
      "outputs": [
        {
          "output_type": "execute_result",
          "data": {
            "text/plain": [
              "count   4687.00\n",
              "mean      52.39\n",
              "std        7.59\n",
              "min       16.45\n",
              "25%       47.35\n",
              "50%       52.82\n",
              "75%       57.42\n",
              "max       86.05\n",
              "Name: Age at commencement, dtype: float64"
            ]
          },
          "metadata": {},
          "execution_count": 75
        }
      ]
    },
    {
      "cell_type": "markdown",
      "source": [
        "The age at commencement is between 16 and 86 years. 50% of all customers are between 46 and 57 years at commencement."
      ],
      "metadata": {
        "id": "G7X_wYa07F4j"
      }
    },
    {
      "cell_type": "markdown",
      "source": [
        "Size of Investment"
      ],
      "metadata": {
        "id": "ZzXNEKVyGeEp"
      }
    },
    {
      "cell_type": "code",
      "source": [
        "data['ValLatest'].isnull().sum()"
      ],
      "metadata": {
        "colab": {
          "base_uri": "https://localhost:8080/"
        },
        "id": "fV087ONLy8WK",
        "outputId": "b7c4ff69-e6aa-4699-f668-ddc61a8d89e6"
      },
      "execution_count": 76,
      "outputs": [
        {
          "output_type": "execute_result",
          "data": {
            "text/plain": [
              "341"
            ]
          },
          "metadata": {},
          "execution_count": 76
        }
      ]
    },
    {
      "cell_type": "markdown",
      "source": [
        "There is a very small number of NAN values, we use the column mean as imputation."
      ],
      "metadata": {
        "id": "HCa0zTB_IZVD"
      }
    },
    {
      "cell_type": "code",
      "source": [
        "data['ValLatest'] = data['ValLatest'].fillna(data['ValLatest'].mean())"
      ],
      "metadata": {
        "id": "ZL32-_ooUjzI"
      },
      "execution_count": 77,
      "outputs": []
    },
    {
      "cell_type": "code",
      "source": [
        "pd.set_option('display.float_format', lambda x: '%.2f' % x)\n",
        "data.groupby('MemberNumber')['ValLatest'].sum().describe()"
      ],
      "metadata": {
        "colab": {
          "base_uri": "https://localhost:8080/"
        },
        "id": "qEN5vjtqKYwM",
        "outputId": "958d6dc2-1f2e-4de6-a4db-65320d1c3932"
      },
      "execution_count": 78,
      "outputs": [
        {
          "output_type": "execute_result",
          "data": {
            "text/plain": [
              "count      4689.00\n",
              "mean     294191.09\n",
              "std      348794.66\n",
              "min        -180.00\n",
              "25%       90312.47\n",
              "50%      181201.00\n",
              "75%      380585.82\n",
              "max     4623396.00\n",
              "Name: ValLatest, dtype: float64"
            ]
          },
          "metadata": {},
          "execution_count": 78
        }
      ]
    },
    {
      "cell_type": "markdown",
      "source": [
        "At average we have 294.191 investment volume.\n",
        "50% are below 181.201"
      ],
      "metadata": {
        "id": "H7lFT034KhPZ"
      }
    },
    {
      "cell_type": "markdown",
      "source": [
        "Plotting distribution without accounting for outliers"
      ],
      "metadata": {
        "id": "sLxu9_SMOY-r"
      }
    },
    {
      "cell_type": "code",
      "source": [
        "# Plot the data\n",
        "df_inv = pd.DataFrame(data.groupby('MemberNumber')['ValLatest'].sum())\n",
        "df_inv.reset_index(inplace=True)\n",
        "\n",
        "fig, axes = plt.subplots(1, 1, figsize = (15, 10))\n",
        "fig.suptitle('Investment size')\n",
        "o = sns.histplot(x = 'ValLatest', data = df_inv, ax = axes)\n",
        "xlabels = ['{:,.0f}'.format(x) for x in o.get_xticks()/1000]\n",
        "plt.axvline(x=df_inv['ValLatest'].mean(), linestyle=\"--\", label = 'Mean', ymax = 0.9,\n",
        "            color='red')\n",
        "plt.text(150000,550,'Mean Investment')\n",
        "o.set_xticklabels(xlabels)\n",
        "axes.set(xlabel='Holdings (£ in thousands) ',\n",
        "       ylabel='Count',\n",
        "       title='Investment size')\n",
        "#axes.ticklabel_format(useOffset=False, style='plain')\n",
        "\n",
        "plt.show()"
      ],
      "metadata": {
        "colab": {
          "base_uri": "https://localhost:8080/",
          "height": 712
        },
        "id": "zEuFL5kNKSAu",
        "outputId": "d75e0308-2319-488c-e3e0-562188b34fbe"
      },
      "execution_count": 79,
      "outputs": [
        {
          "output_type": "stream",
          "name": "stderr",
          "text": [
            "<ipython-input-79-350feb04691e>:12: UserWarning: FixedFormatter should only be used together with FixedLocator\n",
            "  o.set_xticklabels(xlabels)\n"
          ]
        },
        {
          "output_type": "display_data",
          "data": {
            "text/plain": [
              "<Figure size 1080x720 with 1 Axes>"
            ],
            "image/png": "[encoded data removed]"
          },
          "metadata": {
            "needs_background": "light"
          }
        }
      ]
    },
    {
      "cell_type": "markdown",
      "source": [
        "Check outliers"
      ],
      "metadata": {
        "id": "4xKiE1_vOR6g"
      }
    },
    {
      "cell_type": "code",
      "source": [
        "df_inv.boxplot('ValLatest')"
      ],
      "metadata": {
        "colab": {
          "base_uri": "https://localhost:8080/",
          "height": 293
        },
        "id": "TLBI4aNBy8RG",
        "outputId": "76f13fe7-f6fd-4591-baf6-f0c7c41e8803"
      },
      "execution_count": 80,
      "outputs": [
        {
          "output_type": "execute_result",
          "data": {
            "text/plain": [
              "<AxesSubplot:>"
            ]
          },
          "metadata": {},
          "execution_count": 80
        },
        {
          "output_type": "display_data",
          "data": {
            "text/plain": [
              "<Figure size 432x288 with 1 Axes>"
            ],
            "image/png": "[encoded data removed]"
          },
          "metadata": {
            "needs_background": "light"
          }
        }
      ]
    },
    {
      "cell_type": "markdown",
      "source": [
        "There are many outliers on the upper side as can be seen by the whiskers plot."
      ],
      "metadata": {
        "id": "UhXGErbaWtp0"
      }
    },
    {
      "cell_type": "markdown",
      "source": [
        "Handling Outliers for Investment size"
      ],
      "metadata": {
        "id": "YgS5KanOWySl"
      }
    },
    {
      "cell_type": "code",
      "source": [
        "Q1 = df_inv['ValLatest'].quantile(0.25)\n",
        "Q3 = df_inv['ValLatest'].quantile(0.75)\n",
        "IQR = Q3 - Q1\n",
        "\n",
        "lower = Q1- 1.5*IQR\n",
        "upper = Q3+ 1.5*IQR"
      ],
      "metadata": {
        "id": "d7cT5PF1WtY4"
      },
      "execution_count": 81,
      "outputs": []
    },
    {
      "cell_type": "code",
      "source": [
        "print(f'Values above {upper} are considered outliers and will be dropped')"
      ],
      "metadata": {
        "colab": {
          "base_uri": "https://localhost:8080/"
        },
        "id": "W1XRqpyNYdUI",
        "outputId": "2260c952-20f4-4414-f2d4-7d7457b97b51"
      },
      "execution_count": 82,
      "outputs": [
        {
          "output_type": "stream",
          "name": "stdout",
          "text": [
            "Values above 815995.845 are considered outliers and will be dropped\n"
          ]
        }
      ]
    },
    {
      "cell_type": "code",
      "source": [
        "df_inv_clean = df_inv[~(df_inv['ValLatest']>upper)]"
      ],
      "metadata": {
        "id": "MpVSS3-Zy8L9"
      },
      "execution_count": 83,
      "outputs": []
    },
    {
      "cell_type": "markdown",
      "source": [
        "Investment size without outliers"
      ],
      "metadata": {
        "id": "_vH9FCWibVUg"
      }
    },
    {
      "cell_type": "code",
      "source": [
        "fig, axes = plt.subplots(1, 1, figsize = (15, 6))\n",
        "#fig.suptitle('Investment size')\n",
        "g = sns.histplot(x = 'ValLatest', data = df_inv_clean)\n",
        "xlabels = ['{:,.0f}'.format(x) for x in g.get_xticks()/1000]\n",
        "g.set_xticklabels(xlabels)\n",
        "axes.set(xlabel='Holdings (£ in thousands) ',\n",
        "       ylabel='Count',\n",
        "       title='Investment size')\n",
        "plt.axvline(x=df_inv_clean['ValLatest'].mean(), linestyle=\"--\", label = 'Mean', ymax = 0.9,\n",
        "            color='red')\n",
        "plt.show()\n"
      ],
      "metadata": {
        "colab": {
          "base_uri": "https://localhost:8080/",
          "height": 439
        },
        "id": "jXwATguDy8Jh",
        "outputId": "7b9426be-a463-424e-9598-bcd3f1190d57"
      },
      "execution_count": 84,
      "outputs": [
        {
          "output_type": "stream",
          "name": "stderr",
          "text": [
            "<ipython-input-84-e03afbf6248e>:5: UserWarning: FixedFormatter should only be used together with FixedLocator\n",
            "  g.set_xticklabels(xlabels)\n"
          ]
        },
        {
          "output_type": "display_data",
          "data": {
            "text/plain": [
              "<Figure size 1080x432 with 1 Axes>"
            ],
            "image/png": "[encoded data removed]"
          },
          "metadata": {
            "needs_background": "light"
          }
        }
      ]
    },
    {
      "cell_type": "code",
      "source": [
        "df_inv_clean['ValLatest'].mean()"
      ],
      "metadata": {
        "colab": {
          "base_uri": "https://localhost:8080/"
        },
        "id": "xzubwtW5y8G1",
        "outputId": "91a9a6a9-fd41-4ec1-a9a8-af7ebf58ca2d"
      },
      "execution_count": 85,
      "outputs": [
        {
          "output_type": "execute_result",
          "data": {
            "text/plain": [
              "225163.64325668477"
            ]
          },
          "metadata": {},
          "execution_count": 85
        }
      ]
    },
    {
      "cell_type": "markdown",
      "source": [
        "The mean without outliers is at 225.163."
      ],
      "metadata": {
        "id": "JoohjJDgbu4o"
      }
    },
    {
      "cell_type": "code",
      "source": [
        "df_inv_clean['ValLatest'].describe()"
      ],
      "metadata": {
        "colab": {
          "base_uri": "https://localhost:8080/"
        },
        "id": "pqPu0Mtfb18U",
        "outputId": "4622016f-f317-428d-89aa-2773673e65c9"
      },
      "execution_count": 86,
      "outputs": [
        {
          "output_type": "execute_result",
          "data": {
            "text/plain": [
              "count     4384.00\n",
              "mean    225163.64\n",
              "std     190146.89\n",
              "min       -180.00\n",
              "25%      85058.05\n",
              "50%     165035.70\n",
              "75%     322898.22\n",
              "max     814197.91\n",
              "Name: ValLatest, dtype: float64"
            ]
          },
          "metadata": {},
          "execution_count": 86
        }
      ]
    },
    {
      "cell_type": "code",
      "source": [
        "df_inv_clean['ValLatest'].count()/df_inv['ValLatest'].count()"
      ],
      "metadata": {
        "colab": {
          "base_uri": "https://localhost:8080/"
        },
        "id": "kTfUlKcDcNqu",
        "outputId": "9b055abe-d96d-494a-ecf7-03a583392688"
      },
      "execution_count": 87,
      "outputs": [
        {
          "output_type": "execute_result",
          "data": {
            "text/plain": [
              "0.9349541480059714"
            ]
          },
          "metadata": {},
          "execution_count": 87
        }
      ]
    },
    {
      "cell_type": "markdown",
      "source": [
        "About 93 % of all customers hold holdings between -180 and 814.197"
      ],
      "metadata": {
        "id": "Z9wJ86_9b5M7"
      }
    },
    {
      "cell_type": "markdown",
      "source": [
        "# Source of customer"
      ],
      "metadata": {
        "id": "I06Yg2dcc9nz"
      }
    },
    {
      "cell_type": "code",
      "source": [
        "# create Dataframe with source per member\n",
        "\n",
        "df_source = data[['MemberNumber','AdviserCompanyName']].copy()\n",
        "\n",
        "df_source = df_source.drop_duplicates()\n"
      ],
      "metadata": {
        "id": "8V_4VPemfUT2"
      },
      "execution_count": 88,
      "outputs": []
    },
    {
      "cell_type": "code",
      "source": [
        "df_source['AdviserCompanyName'].value_counts()"
      ],
      "metadata": {
        "colab": {
          "base_uri": "https://localhost:8080/"
        },
        "id": "fz5L1opmc_2O",
        "outputId": "ac201032-98bf-431c-e51e-1887837427bb"
      },
      "execution_count": 89,
      "outputs": [
        {
          "output_type": "execute_result",
          "data": {
            "text/plain": [
              "Hoxton Capital Management FZE                                                480\n",
              "Hoxton Capital Management USA LLC                                            187\n",
              "Blacktower Financial Management (Int) Ltd                                    146\n",
              "Sovereign Group                                                              143\n",
              "AHR Financial Consultation & Financial Analysis LLC                          134\n",
              "                                                                            ... \n",
              "Ecclesiastical Financial Advisory Services Ltd                                 1\n",
              "Wealthmasters Financial Management Ltd                                         1\n",
              "Alan Parkinson T/A CPD Financial Advisors                                      1\n",
              "Elm Financial Management Ltd AR of Wealthmasters Financial Management Ltd      1\n",
              "Fairstone Financial Management (City) Ltd                                      1\n",
              "Name: AdviserCompanyName, Length: 445, dtype: int64"
            ]
          },
          "metadata": {},
          "execution_count": 89
        }
      ]
    },
    {
      "cell_type": "markdown",
      "source": [
        "The most used advisor company is Hoxton Capital Management"
      ],
      "metadata": {
        "id": "T9YLK7vmd9NR"
      }
    },
    {
      "cell_type": "code",
      "source": [
        "(df_source['AdviserCompanyName'].value_counts() == 1).sum()"
      ],
      "metadata": {
        "colab": {
          "base_uri": "https://localhost:8080/"
        },
        "id": "siKIxvgbgQc1",
        "outputId": "12ab89f2-c4c1-4fdd-f563-8d58ef6e3dad"
      },
      "execution_count": 90,
      "outputs": [
        {
          "output_type": "execute_result",
          "data": {
            "text/plain": [
              "183"
            ]
          },
          "metadata": {},
          "execution_count": 90
        }
      ]
    },
    {
      "cell_type": "markdown",
      "source": [
        "There are 183 sources that are unique."
      ],
      "metadata": {
        "id": "kKl9SDAXgXm9"
      }
    },
    {
      "cell_type": "code",
      "source": [
        "fig, axes = plt.subplots(1, 1, figsize = (30, 6))\n",
        "\n",
        "df_country = pd.DataFrame(data.groupby('Country')['ValLatest'].mean())\n",
        "sns.barplot(data = df_country, x=df_country.index, y='ValLatest')\n",
        "axes.set_xticklabels(axes.get_xticklabels(), rotation=45, horizontalalignment='right')\n",
        "plt.show()\n",
        "\n"
      ],
      "metadata": {
        "colab": {
          "base_uri": "https://localhost:8080/",
          "height": 411
        },
        "id": "jPSHomuEdeEI",
        "outputId": "201ad3b5-b5e3-4dc9-c635-96b219c988bd"
      },
      "execution_count": 105,
      "outputs": [
        {
          "output_type": "display_data",
          "data": {
            "text/plain": [
              "<Figure size 2160x432 with 1 Axes>"
            ],
            "image/png": "[encoded data removed]"
          },
          "metadata": {
            "needs_background": "light"
          }
        }
      ]
    },
    {
      "cell_type": "code",
      "source": [
        "df_country[df_country['ValLatest']>300000]"
      ],
      "metadata": {
        "colab": {
          "base_uri": "https://localhost:8080/",
          "height": 331
        },
        "id": "2f8agtNDcfLA",
        "outputId": "2210f262-7e7d-48ab-b119-d7c72c6bc072"
      },
      "execution_count": 106,
      "outputs": [
        {
          "output_type": "execute_result",
          "data": {
            "text/plain": [
              "                ValLatest\n",
              "Country                  \n",
              "Angola          555073.25\n",
              "Bahamas         559065.19\n",
              "Botswana        310834.19\n",
              "Hungary         439746.06\n",
              "Iraq            361102.49\n",
              "Jersey          423311.84\n",
              "United kingdom  516966.56\n",
              "united Kingdom  354960.96"
            ],
            "text/html": [
              "\n",
              "  <div id=\"df-44d754b6-a715-42c6-a95a-ecc92c6dee83\">\n",
              "    <div class=\"colab-df-container\">\n",
              "      <div>\n",
              "<style scoped>\n",
              "    .dataframe tbody tr th:only-of-type {\n",
              "        vertical-align: middle;\n",
              "    }\n",
              "\n",
              "    .dataframe tbody tr th {\n",
              "        vertical-align: top;\n",
              "    }\n",
              "\n",
              "    .dataframe thead th {\n",
              "        text-align: right;\n",
              "    }\n",
              "</style>\n",
              "<table border=\"1\" class=\"dataframe\">\n",
              "  <thead>\n",
              "    <tr style=\"text-align: right;\">\n",
              "      <th></th>\n",
              "      <th>ValLatest</th>\n",
              "    </tr>\n",
              "    <tr>\n",
              "      <th>Country</th>\n",
              "      <th></th>\n",
              "    </tr>\n",
              "  </thead>\n",
              "  <tbody>\n",
              "    <tr>\n",
              "      <th>Angola</th>\n",
              "      <td>555073.25</td>\n",
              "    </tr>\n",
              "    <tr>\n",
              "      <th>Bahamas</th>\n",
              "      <td>559065.19</td>\n",
              "    </tr>\n",
              "    <tr>\n",
              "      <th>Botswana</th>\n",
              "      <td>310834.19</td>\n",
              "    </tr>\n",
              "    <tr>\n",
              "      <th>Hungary</th>\n",
              "      <td>439746.06</td>\n",
              "    </tr>\n",
              "    <tr>\n",
              "      <th>Iraq</th>\n",
              "      <td>361102.49</td>\n",
              "    </tr>\n",
              "    <tr>\n",
              "      <th>Jersey</th>\n",
              "      <td>423311.84</td>\n",
              "    </tr>\n",
              "    <tr>\n",
              "      <th>United kingdom</th>\n",
              "      <td>516966.56</td>\n",
              "    </tr>\n",
              "    <tr>\n",
              "      <th>united Kingdom</th>\n",
              "      <td>354960.96</td>\n",
              "    </tr>\n",
              "  </tbody>\n",
              "</table>\n",
              "</div>\n",
              "      <button class=\"colab-df-convert\" onclick=\"convertToInteractive('df-44d754b6-a715-42c6-a95a-ecc92c6dee83')\"\n",
              "              title=\"Convert this dataframe to an interactive table.\"\n",
              "              style=\"display:none;\">\n",
              "        \n",
              "  <svg xmlns=\"http://www.w3.org/2000/svg\" height=\"24px\"viewBox=\"0 0 24 24\"\n",
              "       width=\"24px\">\n",
              "    <path d=\"M0 0h24v24H0V0z\" fill=\"none\"/>\n",
              "    <path d=\"M18.56 5.44l.94 2.06.94-2.06 2.06-.94-2.06-.94-.94-2.06-.94 2.06-2.06.94zm-11 1L8.5 8.5l.94-2.06 2.06-.94-2.06-.94L8.5 2.5l-.94 2.06-2.06.94zm10 10l.94 2.06.94-2.06 2.06-.94-2.06-.94-.94-2.06-.94 2.06-2.06.94z\"/><path d=\"M17.41 7.96l-1.37-1.37c-.4-.4-.92-.59-1.43-.59-.52 0-1.04.2-1.43.59L10.3 9.45l-7.72 7.72c-.78.78-.78 2.05 0 2.83L4 21.41c.39.39.9.59 1.41.59.51 0 1.02-.2 1.41-.59l7.78-7.78 2.81-2.81c.8-.78.8-2.07 0-2.86zM5.41 20L4 18.59l7.72-7.72 1.47 1.35L5.41 20z\"/>\n",
              "  </svg>\n",
              "      </button>\n",
              "      \n",
              "  <style>\n",
              "    .colab-df-container {\n",
              "      display:flex;\n",
              "      flex-wrap:wrap;\n",
              "      gap: 12px;\n",
              "    }\n",
              "\n",
              "    .colab-df-convert {\n",
              "      background-color: #E8F0FE;\n",
              "      border: none;\n",
              "      border-radius: 50%;\n",
              "      cursor: pointer;\n",
              "      display: none;\n",
              "      fill: #1967D2;\n",
              "      height: 32px;\n",
              "      padding: 0 0 0 0;\n",
              "      width: 32px;\n",
              "    }\n",
              "\n",
              "    .colab-df-convert:hover {\n",
              "      background-color: #E2EBFA;\n",
              "      box-shadow: 0px 1px 2px rgba(60, 64, 67, 0.3), 0px 1px 3px 1px rgba(60, 64, 67, 0.15);\n",
              "      fill: #174EA6;\n",
              "    }\n",
              "\n",
              "    [theme=dark] .colab-df-convert {\n",
              "      background-color: #3B4455;\n",
              "      fill: #D2E3FC;\n",
              "    }\n",
              "\n",
              "    [theme=dark] .colab-df-convert:hover {\n",
              "      background-color: #434B5C;\n",
              "      box-shadow: 0px 1px 3px 1px rgba(0, 0, 0, 0.15);\n",
              "      filter: drop-shadow(0px 1px 2px rgba(0, 0, 0, 0.3));\n",
              "      fill: #FFFFFF;\n",
              "    }\n",
              "  </style>\n",
              "\n",
              "      <script>\n",
              "        const buttonEl =\n",
              "          document.querySelector('#df-44d754b6-a715-42c6-a95a-ecc92c6dee83 button.colab-df-convert');\n",
              "        buttonEl.style.display =\n",
              "          google.colab.kernel.accessAllowed ? 'block' : 'none';\n",
              "\n",
              "        async function convertToInteractive(key) {\n",
              "          const element = document.querySelector('#df-44d754b6-a715-42c6-a95a-ecc92c6dee83');\n",
              "          const dataTable =\n",
              "            await google.colab.kernel.invokeFunction('convertToInteractive',\n",
              "                                                     [key], {});\n",
              "          if (!dataTable) return;\n",
              "\n",
              "          const docLinkHtml = 'Like what you see? Visit the ' +\n",
              "            '<a target=\"_blank\" href=https://colab.research.google.com/notebooks/data_table.ipynb>data table notebook</a>'\n",
              "            + ' to learn more about interactive tables.';\n",
              "          element.innerHTML = '';\n",
              "          dataTable['output_type'] = 'display_data';\n",
              "          await google.colab.output.renderOutput(dataTable, element);\n",
              "          const docLink = document.createElement('div');\n",
              "          docLink.innerHTML = docLinkHtml;\n",
              "          element.appendChild(docLink);\n",
              "        }\n",
              "      </script>\n",
              "    </div>\n",
              "  </div>\n",
              "  "
            ]
          },
          "metadata": {},
          "execution_count": 106
        }
      ]
    },
    {
      "cell_type": "code",
      "source": [],
      "metadata": {
        "id": "-QwyttGvff2F"
      },
      "execution_count": null,
      "outputs": []
    }
  ]
}